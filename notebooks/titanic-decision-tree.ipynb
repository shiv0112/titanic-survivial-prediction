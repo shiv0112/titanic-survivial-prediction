{
 "cells": [
  {
   "cell_type": "code",
   "execution_count": 1,
   "metadata": {},
   "outputs": [],
   "source": [
    "import pandas as pd\n",
    "import numpy as np\n",
    "import matplotlib.pyplot as plt\n",
    "%matplotlib inline\n",
    "import seaborn as sns\n",
    "import sklearn"
   ]
  },
  {
   "cell_type": "code",
   "execution_count": 2,
   "metadata": {},
   "outputs": [],
   "source": [
    "url='https://raw.githubusercontent.com/BigDataGal/Python-for-Data-Science/master/titanic-train.csv'\n",
    "df=pd.read_csv(url)"
   ]
  },
  {
   "cell_type": "code",
   "execution_count": 3,
   "metadata": {},
   "outputs": [
    {
     "data": {
      "text/html": [
       "<div>\n",
       "<style scoped>\n",
       "    .dataframe tbody tr th:only-of-type {\n",
       "        vertical-align: middle;\n",
       "    }\n",
       "\n",
       "    .dataframe tbody tr th {\n",
       "        vertical-align: top;\n",
       "    }\n",
       "\n",
       "    .dataframe thead th {\n",
       "        text-align: right;\n",
       "    }\n",
       "</style>\n",
       "<table border=\"1\" class=\"dataframe\">\n",
       "  <thead>\n",
       "    <tr style=\"text-align: right;\">\n",
       "      <th></th>\n",
       "      <th>PassengerId</th>\n",
       "      <th>Survived</th>\n",
       "      <th>Pclass</th>\n",
       "      <th>Name</th>\n",
       "      <th>Sex</th>\n",
       "      <th>Age</th>\n",
       "      <th>SibSp</th>\n",
       "      <th>Parch</th>\n",
       "      <th>Ticket</th>\n",
       "      <th>Fare</th>\n",
       "      <th>Cabin</th>\n",
       "      <th>Embarked</th>\n",
       "    </tr>\n",
       "  </thead>\n",
       "  <tbody>\n",
       "    <tr>\n",
       "      <th>0</th>\n",
       "      <td>1</td>\n",
       "      <td>0</td>\n",
       "      <td>3</td>\n",
       "      <td>Braund, Mr. Owen Harris</td>\n",
       "      <td>male</td>\n",
       "      <td>22.0</td>\n",
       "      <td>1</td>\n",
       "      <td>0</td>\n",
       "      <td>A/5 21171</td>\n",
       "      <td>7.2500</td>\n",
       "      <td>NaN</td>\n",
       "      <td>S</td>\n",
       "    </tr>\n",
       "    <tr>\n",
       "      <th>1</th>\n",
       "      <td>2</td>\n",
       "      <td>1</td>\n",
       "      <td>1</td>\n",
       "      <td>Cumings, Mrs. John Bradley (Florence Briggs Th...</td>\n",
       "      <td>female</td>\n",
       "      <td>38.0</td>\n",
       "      <td>1</td>\n",
       "      <td>0</td>\n",
       "      <td>PC 17599</td>\n",
       "      <td>71.2833</td>\n",
       "      <td>C85</td>\n",
       "      <td>C</td>\n",
       "    </tr>\n",
       "    <tr>\n",
       "      <th>2</th>\n",
       "      <td>3</td>\n",
       "      <td>1</td>\n",
       "      <td>3</td>\n",
       "      <td>Heikkinen, Miss. Laina</td>\n",
       "      <td>female</td>\n",
       "      <td>26.0</td>\n",
       "      <td>0</td>\n",
       "      <td>0</td>\n",
       "      <td>STON/O2. 3101282</td>\n",
       "      <td>7.9250</td>\n",
       "      <td>NaN</td>\n",
       "      <td>S</td>\n",
       "    </tr>\n",
       "    <tr>\n",
       "      <th>3</th>\n",
       "      <td>4</td>\n",
       "      <td>1</td>\n",
       "      <td>1</td>\n",
       "      <td>Futrelle, Mrs. Jacques Heath (Lily May Peel)</td>\n",
       "      <td>female</td>\n",
       "      <td>35.0</td>\n",
       "      <td>1</td>\n",
       "      <td>0</td>\n",
       "      <td>113803</td>\n",
       "      <td>53.1000</td>\n",
       "      <td>C123</td>\n",
       "      <td>S</td>\n",
       "    </tr>\n",
       "    <tr>\n",
       "      <th>4</th>\n",
       "      <td>5</td>\n",
       "      <td>0</td>\n",
       "      <td>3</td>\n",
       "      <td>Allen, Mr. William Henry</td>\n",
       "      <td>male</td>\n",
       "      <td>35.0</td>\n",
       "      <td>0</td>\n",
       "      <td>0</td>\n",
       "      <td>373450</td>\n",
       "      <td>8.0500</td>\n",
       "      <td>NaN</td>\n",
       "      <td>S</td>\n",
       "    </tr>\n",
       "  </tbody>\n",
       "</table>\n",
       "</div>"
      ],
      "text/plain": [
       "   PassengerId  Survived  Pclass  \\\n",
       "0            1         0       3   \n",
       "1            2         1       1   \n",
       "2            3         1       3   \n",
       "3            4         1       1   \n",
       "4            5         0       3   \n",
       "\n",
       "                                                Name     Sex   Age  SibSp  \\\n",
       "0                            Braund, Mr. Owen Harris    male  22.0      1   \n",
       "1  Cumings, Mrs. John Bradley (Florence Briggs Th...  female  38.0      1   \n",
       "2                             Heikkinen, Miss. Laina  female  26.0      0   \n",
       "3       Futrelle, Mrs. Jacques Heath (Lily May Peel)  female  35.0      1   \n",
       "4                           Allen, Mr. William Henry    male  35.0      0   \n",
       "\n",
       "   Parch            Ticket     Fare Cabin Embarked  \n",
       "0      0         A/5 21171   7.2500   NaN        S  \n",
       "1      0          PC 17599  71.2833   C85        C  \n",
       "2      0  STON/O2. 3101282   7.9250   NaN        S  \n",
       "3      0            113803  53.1000  C123        S  \n",
       "4      0            373450   8.0500   NaN        S  "
      ]
     },
     "execution_count": 3,
     "metadata": {},
     "output_type": "execute_result"
    }
   ],
   "source": [
    "df.head()"
   ]
  },
  {
   "cell_type": "code",
   "execution_count": 4,
   "metadata": {},
   "outputs": [],
   "source": [
    "# features we will use for prediction\n",
    "col=['Pclass','Sex','Age','SibSp','Parch','Fare','Survived']"
   ]
  },
  {
   "cell_type": "code",
   "execution_count": 5,
   "metadata": {},
   "outputs": [
    {
     "data": {
      "text/plain": [
       "['Pclass', 'Sex', 'Age', 'SibSp', 'Parch', 'Fare', 'Survived']"
      ]
     },
     "execution_count": 5,
     "metadata": {},
     "output_type": "execute_result"
    }
   ],
   "source": [
    "col"
   ]
  },
  {
   "cell_type": "code",
   "execution_count": 6,
   "metadata": {},
   "outputs": [],
   "source": [
    "df=df[col]"
   ]
  },
  {
   "cell_type": "code",
   "execution_count": 7,
   "metadata": {},
   "outputs": [
    {
     "data": {
      "text/html": [
       "<div>\n",
       "<style scoped>\n",
       "    .dataframe tbody tr th:only-of-type {\n",
       "        vertical-align: middle;\n",
       "    }\n",
       "\n",
       "    .dataframe tbody tr th {\n",
       "        vertical-align: top;\n",
       "    }\n",
       "\n",
       "    .dataframe thead th {\n",
       "        text-align: right;\n",
       "    }\n",
       "</style>\n",
       "<table border=\"1\" class=\"dataframe\">\n",
       "  <thead>\n",
       "    <tr style=\"text-align: right;\">\n",
       "      <th></th>\n",
       "      <th>Pclass</th>\n",
       "      <th>Sex</th>\n",
       "      <th>Age</th>\n",
       "      <th>SibSp</th>\n",
       "      <th>Parch</th>\n",
       "      <th>Fare</th>\n",
       "      <th>Survived</th>\n",
       "    </tr>\n",
       "  </thead>\n",
       "  <tbody>\n",
       "    <tr>\n",
       "      <th>0</th>\n",
       "      <td>3</td>\n",
       "      <td>male</td>\n",
       "      <td>22.0</td>\n",
       "      <td>1</td>\n",
       "      <td>0</td>\n",
       "      <td>7.2500</td>\n",
       "      <td>0</td>\n",
       "    </tr>\n",
       "    <tr>\n",
       "      <th>1</th>\n",
       "      <td>1</td>\n",
       "      <td>female</td>\n",
       "      <td>38.0</td>\n",
       "      <td>1</td>\n",
       "      <td>0</td>\n",
       "      <td>71.2833</td>\n",
       "      <td>1</td>\n",
       "    </tr>\n",
       "    <tr>\n",
       "      <th>2</th>\n",
       "      <td>3</td>\n",
       "      <td>female</td>\n",
       "      <td>26.0</td>\n",
       "      <td>0</td>\n",
       "      <td>0</td>\n",
       "      <td>7.9250</td>\n",
       "      <td>1</td>\n",
       "    </tr>\n",
       "    <tr>\n",
       "      <th>3</th>\n",
       "      <td>1</td>\n",
       "      <td>female</td>\n",
       "      <td>35.0</td>\n",
       "      <td>1</td>\n",
       "      <td>0</td>\n",
       "      <td>53.1000</td>\n",
       "      <td>1</td>\n",
       "    </tr>\n",
       "    <tr>\n",
       "      <th>4</th>\n",
       "      <td>3</td>\n",
       "      <td>male</td>\n",
       "      <td>35.0</td>\n",
       "      <td>0</td>\n",
       "      <td>0</td>\n",
       "      <td>8.0500</td>\n",
       "      <td>0</td>\n",
       "    </tr>\n",
       "  </tbody>\n",
       "</table>\n",
       "</div>"
      ],
      "text/plain": [
       "   Pclass     Sex   Age  SibSp  Parch     Fare  Survived\n",
       "0       3    male  22.0      1      0   7.2500         0\n",
       "1       1  female  38.0      1      0  71.2833         1\n",
       "2       3  female  26.0      0      0   7.9250         1\n",
       "3       1  female  35.0      1      0  53.1000         1\n",
       "4       3    male  35.0      0      0   8.0500         0"
      ]
     },
     "execution_count": 7,
     "metadata": {},
     "output_type": "execute_result"
    }
   ],
   "source": [
    "df.head()"
   ]
  },
  {
   "cell_type": "markdown",
   "metadata": {},
   "source": [
    "## Exploratory Data Analysis"
   ]
  },
  {
   "cell_type": "code",
   "execution_count": 8,
   "metadata": {},
   "outputs": [
    {
     "name": "stdout",
     "output_type": "stream",
     "text": [
      "<class 'pandas.core.frame.DataFrame'>\n",
      "RangeIndex: 891 entries, 0 to 890\n",
      "Data columns (total 7 columns):\n",
      " #   Column    Non-Null Count  Dtype  \n",
      "---  ------    --------------  -----  \n",
      " 0   Pclass    891 non-null    int64  \n",
      " 1   Sex       891 non-null    object \n",
      " 2   Age       714 non-null    float64\n",
      " 3   SibSp     891 non-null    int64  \n",
      " 4   Parch     891 non-null    int64  \n",
      " 5   Fare      891 non-null    float64\n",
      " 6   Survived  891 non-null    int64  \n",
      "dtypes: float64(2), int64(4), object(1)\n",
      "memory usage: 48.9+ KB\n"
     ]
    }
   ],
   "source": [
    "df.info()"
   ]
  },
  {
   "cell_type": "code",
   "execution_count": 9,
   "metadata": {},
   "outputs": [],
   "source": [
    "features_na=[features for features in df.columns if df[features].isnull().sum()>0]"
   ]
  },
  {
   "cell_type": "code",
   "execution_count": 10,
   "metadata": {},
   "outputs": [
    {
     "data": {
      "text/plain": [
       "['Age']"
      ]
     },
     "execution_count": 10,
     "metadata": {},
     "output_type": "execute_result"
    }
   ],
   "source": [
    "features_na"
   ]
  },
  {
   "cell_type": "code",
   "execution_count": 11,
   "metadata": {},
   "outputs": [
    {
     "data": {
      "image/png": "[encoded data removed]",
      "text/plain": [
       "<Figure size 432x288 with 1 Axes>"
      ]
     },
     "metadata": {
      "needs_background": "light"
     },
     "output_type": "display_data"
    }
   ],
   "source": [
    "for features in features_na:\n",
    "    data=df.copy()\n",
    "    data[features]=np.where(df[features].isnull(),1,0)\n",
    "    data.groupby(features)['Survived'].mean().plot.bar()\n",
    "    plt.title(features)\n",
    "    plt.show()"
   ]
  },
  {
   "cell_type": "code",
   "execution_count": 12,
   "metadata": {},
   "outputs": [],
   "source": [
    "numerical_features=[features for features in df.columns if df[features].dtypes!='O']"
   ]
  },
  {
   "cell_type": "code",
   "execution_count": 13,
   "metadata": {},
   "outputs": [
    {
     "data": {
      "text/plain": [
       "['Pclass', 'Age', 'SibSp', 'Parch', 'Fare', 'Survived']"
      ]
     },
     "execution_count": 13,
     "metadata": {},
     "output_type": "execute_result"
    }
   ],
   "source": [
    "numerical_features"
   ]
  },
  {
   "cell_type": "code",
   "execution_count": 14,
   "metadata": {},
   "outputs": [
    {
     "name": "stdout",
     "output_type": "stream",
     "text": [
      "The column Pclass have 3 unique features\n",
      "The column Age have 89 unique features\n",
      "The column SibSp have 7 unique features\n",
      "The column Parch have 7 unique features\n",
      "The column Fare have 248 unique features\n",
      "The column Survived have 2 unique features\n"
     ]
    }
   ],
   "source": [
    "for features in numerical_features:\n",
    "    print(\"The column {} have {} unique features\".format(features,len(df[features].unique())))"
   ]
  },
  {
   "cell_type": "markdown",
   "metadata": {},
   "source": [
    "We can clearly see that Pclass is a categorical feature"
   ]
  },
  {
   "cell_type": "code",
   "execution_count": 15,
   "metadata": {},
   "outputs": [],
   "source": [
    "df = pd.get_dummies(df, columns=[\"Pclass\"], prefix=[\"Pc\"],drop_first=False)"
   ]
  },
  {
   "cell_type": "code",
   "execution_count": 16,
   "metadata": {
    "scrolled": true
   },
   "outputs": [
    {
     "data": {
      "text/html": [
       "<div>\n",
       "<style scoped>\n",
       "    .dataframe tbody tr th:only-of-type {\n",
       "        vertical-align: middle;\n",
       "    }\n",
       "\n",
       "    .dataframe tbody tr th {\n",
       "        vertical-align: top;\n",
       "    }\n",
       "\n",
       "    .dataframe thead th {\n",
       "        text-align: right;\n",
       "    }\n",
       "</style>\n",
       "<table border=\"1\" class=\"dataframe\">\n",
       "  <thead>\n",
       "    <tr style=\"text-align: right;\">\n",
       "      <th></th>\n",
       "      <th>Sex</th>\n",
       "      <th>Age</th>\n",
       "      <th>SibSp</th>\n",
       "      <th>Parch</th>\n",
       "      <th>Fare</th>\n",
       "      <th>Survived</th>\n",
       "      <th>Pc_1</th>\n",
       "      <th>Pc_2</th>\n",
       "      <th>Pc_3</th>\n",
       "    </tr>\n",
       "  </thead>\n",
       "  <tbody>\n",
       "    <tr>\n",
       "      <th>0</th>\n",
       "      <td>male</td>\n",
       "      <td>22.0</td>\n",
       "      <td>1</td>\n",
       "      <td>0</td>\n",
       "      <td>7.2500</td>\n",
       "      <td>0</td>\n",
       "      <td>0</td>\n",
       "      <td>0</td>\n",
       "      <td>1</td>\n",
       "    </tr>\n",
       "    <tr>\n",
       "      <th>1</th>\n",
       "      <td>female</td>\n",
       "      <td>38.0</td>\n",
       "      <td>1</td>\n",
       "      <td>0</td>\n",
       "      <td>71.2833</td>\n",
       "      <td>1</td>\n",
       "      <td>1</td>\n",
       "      <td>0</td>\n",
       "      <td>0</td>\n",
       "    </tr>\n",
       "    <tr>\n",
       "      <th>2</th>\n",
       "      <td>female</td>\n",
       "      <td>26.0</td>\n",
       "      <td>0</td>\n",
       "      <td>0</td>\n",
       "      <td>7.9250</td>\n",
       "      <td>1</td>\n",
       "      <td>0</td>\n",
       "      <td>0</td>\n",
       "      <td>1</td>\n",
       "    </tr>\n",
       "    <tr>\n",
       "      <th>3</th>\n",
       "      <td>female</td>\n",
       "      <td>35.0</td>\n",
       "      <td>1</td>\n",
       "      <td>0</td>\n",
       "      <td>53.1000</td>\n",
       "      <td>1</td>\n",
       "      <td>1</td>\n",
       "      <td>0</td>\n",
       "      <td>0</td>\n",
       "    </tr>\n",
       "    <tr>\n",
       "      <th>4</th>\n",
       "      <td>male</td>\n",
       "      <td>35.0</td>\n",
       "      <td>0</td>\n",
       "      <td>0</td>\n",
       "      <td>8.0500</td>\n",
       "      <td>0</td>\n",
       "      <td>0</td>\n",
       "      <td>0</td>\n",
       "      <td>1</td>\n",
       "    </tr>\n",
       "    <tr>\n",
       "      <th>...</th>\n",
       "      <td>...</td>\n",
       "      <td>...</td>\n",
       "      <td>...</td>\n",
       "      <td>...</td>\n",
       "      <td>...</td>\n",
       "      <td>...</td>\n",
       "      <td>...</td>\n",
       "      <td>...</td>\n",
       "      <td>...</td>\n",
       "    </tr>\n",
       "    <tr>\n",
       "      <th>886</th>\n",
       "      <td>male</td>\n",
       "      <td>27.0</td>\n",
       "      <td>0</td>\n",
       "      <td>0</td>\n",
       "      <td>13.0000</td>\n",
       "      <td>0</td>\n",
       "      <td>0</td>\n",
       "      <td>1</td>\n",
       "      <td>0</td>\n",
       "    </tr>\n",
       "    <tr>\n",
       "      <th>887</th>\n",
       "      <td>female</td>\n",
       "      <td>19.0</td>\n",
       "      <td>0</td>\n",
       "      <td>0</td>\n",
       "      <td>30.0000</td>\n",
       "      <td>1</td>\n",
       "      <td>1</td>\n",
       "      <td>0</td>\n",
       "      <td>0</td>\n",
       "    </tr>\n",
       "    <tr>\n",
       "      <th>888</th>\n",
       "      <td>female</td>\n",
       "      <td>NaN</td>\n",
       "      <td>1</td>\n",
       "      <td>2</td>\n",
       "      <td>23.4500</td>\n",
       "      <td>0</td>\n",
       "      <td>0</td>\n",
       "      <td>0</td>\n",
       "      <td>1</td>\n",
       "    </tr>\n",
       "    <tr>\n",
       "      <th>889</th>\n",
       "      <td>male</td>\n",
       "      <td>26.0</td>\n",
       "      <td>0</td>\n",
       "      <td>0</td>\n",
       "      <td>30.0000</td>\n",
       "      <td>1</td>\n",
       "      <td>1</td>\n",
       "      <td>0</td>\n",
       "      <td>0</td>\n",
       "    </tr>\n",
       "    <tr>\n",
       "      <th>890</th>\n",
       "      <td>male</td>\n",
       "      <td>32.0</td>\n",
       "      <td>0</td>\n",
       "      <td>0</td>\n",
       "      <td>7.7500</td>\n",
       "      <td>0</td>\n",
       "      <td>0</td>\n",
       "      <td>0</td>\n",
       "      <td>1</td>\n",
       "    </tr>\n",
       "  </tbody>\n",
       "</table>\n",
       "<p>891 rows × 9 columns</p>\n",
       "</div>"
      ],
      "text/plain": [
       "        Sex   Age  SibSp  Parch     Fare  Survived  Pc_1  Pc_2  Pc_3\n",
       "0      male  22.0      1      0   7.2500         0     0     0     1\n",
       "1    female  38.0      1      0  71.2833         1     1     0     0\n",
       "2    female  26.0      0      0   7.9250         1     0     0     1\n",
       "3    female  35.0      1      0  53.1000         1     1     0     0\n",
       "4      male  35.0      0      0   8.0500         0     0     0     1\n",
       "..      ...   ...    ...    ...      ...       ...   ...   ...   ...\n",
       "886    male  27.0      0      0  13.0000         0     0     1     0\n",
       "887  female  19.0      0      0  30.0000         1     1     0     0\n",
       "888  female   NaN      1      2  23.4500         0     0     0     1\n",
       "889    male  26.0      0      0  30.0000         1     1     0     0\n",
       "890    male  32.0      0      0   7.7500         0     0     0     1\n",
       "\n",
       "[891 rows x 9 columns]"
      ]
     },
     "execution_count": 16,
     "metadata": {},
     "output_type": "execute_result"
    }
   ],
   "source": [
    "df"
   ]
  },
  {
   "cell_type": "markdown",
   "metadata": {},
   "source": [
    "Now we will deal with the Sex column"
   ]
  },
  {
   "cell_type": "code",
   "execution_count": 17,
   "metadata": {},
   "outputs": [],
   "source": [
    "df = pd.get_dummies(df, columns=[\"Sex\"], prefix=[\"Sex\"],drop_first=False)"
   ]
  },
  {
   "cell_type": "code",
   "execution_count": 18,
   "metadata": {
    "scrolled": false
   },
   "outputs": [
    {
     "data": {
      "text/html": [
       "<div>\n",
       "<style scoped>\n",
       "    .dataframe tbody tr th:only-of-type {\n",
       "        vertical-align: middle;\n",
       "    }\n",
       "\n",
       "    .dataframe tbody tr th {\n",
       "        vertical-align: top;\n",
       "    }\n",
       "\n",
       "    .dataframe thead th {\n",
       "        text-align: right;\n",
       "    }\n",
       "</style>\n",
       "<table border=\"1\" class=\"dataframe\">\n",
       "  <thead>\n",
       "    <tr style=\"text-align: right;\">\n",
       "      <th></th>\n",
       "      <th>Age</th>\n",
       "      <th>SibSp</th>\n",
       "      <th>Parch</th>\n",
       "      <th>Fare</th>\n",
       "      <th>Survived</th>\n",
       "      <th>Pc_1</th>\n",
       "      <th>Pc_2</th>\n",
       "      <th>Pc_3</th>\n",
       "      <th>Sex_female</th>\n",
       "      <th>Sex_male</th>\n",
       "    </tr>\n",
       "  </thead>\n",
       "  <tbody>\n",
       "    <tr>\n",
       "      <th>0</th>\n",
       "      <td>22.0</td>\n",
       "      <td>1</td>\n",
       "      <td>0</td>\n",
       "      <td>7.2500</td>\n",
       "      <td>0</td>\n",
       "      <td>0</td>\n",
       "      <td>0</td>\n",
       "      <td>1</td>\n",
       "      <td>0</td>\n",
       "      <td>1</td>\n",
       "    </tr>\n",
       "    <tr>\n",
       "      <th>1</th>\n",
       "      <td>38.0</td>\n",
       "      <td>1</td>\n",
       "      <td>0</td>\n",
       "      <td>71.2833</td>\n",
       "      <td>1</td>\n",
       "      <td>1</td>\n",
       "      <td>0</td>\n",
       "      <td>0</td>\n",
       "      <td>1</td>\n",
       "      <td>0</td>\n",
       "    </tr>\n",
       "    <tr>\n",
       "      <th>2</th>\n",
       "      <td>26.0</td>\n",
       "      <td>0</td>\n",
       "      <td>0</td>\n",
       "      <td>7.9250</td>\n",
       "      <td>1</td>\n",
       "      <td>0</td>\n",
       "      <td>0</td>\n",
       "      <td>1</td>\n",
       "      <td>1</td>\n",
       "      <td>0</td>\n",
       "    </tr>\n",
       "    <tr>\n",
       "      <th>3</th>\n",
       "      <td>35.0</td>\n",
       "      <td>1</td>\n",
       "      <td>0</td>\n",
       "      <td>53.1000</td>\n",
       "      <td>1</td>\n",
       "      <td>1</td>\n",
       "      <td>0</td>\n",
       "      <td>0</td>\n",
       "      <td>1</td>\n",
       "      <td>0</td>\n",
       "    </tr>\n",
       "    <tr>\n",
       "      <th>4</th>\n",
       "      <td>35.0</td>\n",
       "      <td>0</td>\n",
       "      <td>0</td>\n",
       "      <td>8.0500</td>\n",
       "      <td>0</td>\n",
       "      <td>0</td>\n",
       "      <td>0</td>\n",
       "      <td>1</td>\n",
       "      <td>0</td>\n",
       "      <td>1</td>\n",
       "    </tr>\n",
       "    <tr>\n",
       "      <th>...</th>\n",
       "      <td>...</td>\n",
       "      <td>...</td>\n",
       "      <td>...</td>\n",
       "      <td>...</td>\n",
       "      <td>...</td>\n",
       "      <td>...</td>\n",
       "      <td>...</td>\n",
       "      <td>...</td>\n",
       "      <td>...</td>\n",
       "      <td>...</td>\n",
       "    </tr>\n",
       "    <tr>\n",
       "      <th>886</th>\n",
       "      <td>27.0</td>\n",
       "      <td>0</td>\n",
       "      <td>0</td>\n",
       "      <td>13.0000</td>\n",
       "      <td>0</td>\n",
       "      <td>0</td>\n",
       "      <td>1</td>\n",
       "      <td>0</td>\n",
       "      <td>0</td>\n",
       "      <td>1</td>\n",
       "    </tr>\n",
       "    <tr>\n",
       "      <th>887</th>\n",
       "      <td>19.0</td>\n",
       "      <td>0</td>\n",
       "      <td>0</td>\n",
       "      <td>30.0000</td>\n",
       "      <td>1</td>\n",
       "      <td>1</td>\n",
       "      <td>0</td>\n",
       "      <td>0</td>\n",
       "      <td>1</td>\n",
       "      <td>0</td>\n",
       "    </tr>\n",
       "    <tr>\n",
       "      <th>888</th>\n",
       "      <td>NaN</td>\n",
       "      <td>1</td>\n",
       "      <td>2</td>\n",
       "      <td>23.4500</td>\n",
       "      <td>0</td>\n",
       "      <td>0</td>\n",
       "      <td>0</td>\n",
       "      <td>1</td>\n",
       "      <td>1</td>\n",
       "      <td>0</td>\n",
       "    </tr>\n",
       "    <tr>\n",
       "      <th>889</th>\n",
       "      <td>26.0</td>\n",
       "      <td>0</td>\n",
       "      <td>0</td>\n",
       "      <td>30.0000</td>\n",
       "      <td>1</td>\n",
       "      <td>1</td>\n",
       "      <td>0</td>\n",
       "      <td>0</td>\n",
       "      <td>0</td>\n",
       "      <td>1</td>\n",
       "    </tr>\n",
       "    <tr>\n",
       "      <th>890</th>\n",
       "      <td>32.0</td>\n",
       "      <td>0</td>\n",
       "      <td>0</td>\n",
       "      <td>7.7500</td>\n",
       "      <td>0</td>\n",
       "      <td>0</td>\n",
       "      <td>0</td>\n",
       "      <td>1</td>\n",
       "      <td>0</td>\n",
       "      <td>1</td>\n",
       "    </tr>\n",
       "  </tbody>\n",
       "</table>\n",
       "<p>891 rows × 10 columns</p>\n",
       "</div>"
      ],
      "text/plain": [
       "      Age  SibSp  Parch     Fare  Survived  Pc_1  Pc_2  Pc_3  Sex_female  \\\n",
       "0    22.0      1      0   7.2500         0     0     0     1           0   \n",
       "1    38.0      1      0  71.2833         1     1     0     0           1   \n",
       "2    26.0      0      0   7.9250         1     0     0     1           1   \n",
       "3    35.0      1      0  53.1000         1     1     0     0           1   \n",
       "4    35.0      0      0   8.0500         0     0     0     1           0   \n",
       "..    ...    ...    ...      ...       ...   ...   ...   ...         ...   \n",
       "886  27.0      0      0  13.0000         0     0     1     0           0   \n",
       "887  19.0      0      0  30.0000         1     1     0     0           1   \n",
       "888   NaN      1      2  23.4500         0     0     0     1           1   \n",
       "889  26.0      0      0  30.0000         1     1     0     0           0   \n",
       "890  32.0      0      0   7.7500         0     0     0     1           0   \n",
       "\n",
       "     Sex_male  \n",
       "0           1  \n",
       "1           0  \n",
       "2           0  \n",
       "3           0  \n",
       "4           1  \n",
       "..        ...  \n",
       "886         1  \n",
       "887         0  \n",
       "888         0  \n",
       "889         1  \n",
       "890         1  \n",
       "\n",
       "[891 rows x 10 columns]"
      ]
     },
     "execution_count": 18,
     "metadata": {},
     "output_type": "execute_result"
    }
   ],
   "source": [
    "df"
   ]
  },
  {
   "cell_type": "code",
   "execution_count": 19,
   "metadata": {},
   "outputs": [
    {
     "name": "stdout",
     "output_type": "stream",
     "text": [
      "Age: 0.1987% missing values\n"
     ]
    }
   ],
   "source": [
    "features_nan=[feature for feature in df.columns if df[feature].isnull().sum()>1]\n",
    "\n",
    "for feature in features_nan:\n",
    "    print(\"{}: {}% missing values\".format(feature,np.round(df[feature].isnull().mean(),4)))"
   ]
  },
  {
   "cell_type": "code",
   "execution_count": 20,
   "metadata": {
    "scrolled": true
   },
   "outputs": [
    {
     "data": {
      "text/plain": [
       "28.0"
      ]
     },
     "execution_count": 20,
     "metadata": {},
     "output_type": "execute_result"
    }
   ],
   "source": [
    "for feature in features_nan:\n",
    "    median_value=df[feature].median()\n",
    "    df[feature].fillna(median_value,inplace=True)\n",
    "median_value"
   ]
  },
  {
   "cell_type": "markdown",
   "metadata": {},
   "source": [
    "replaced the nan value in Age with its median value 28"
   ]
  },
  {
   "cell_type": "code",
   "execution_count": 21,
   "metadata": {
    "scrolled": true
   },
   "outputs": [
    {
     "name": "stdout",
     "output_type": "stream",
     "text": [
      "<class 'pandas.core.frame.DataFrame'>\n",
      "RangeIndex: 891 entries, 0 to 890\n",
      "Data columns (total 10 columns):\n",
      " #   Column      Non-Null Count  Dtype  \n",
      "---  ------      --------------  -----  \n",
      " 0   Age         891 non-null    float64\n",
      " 1   SibSp       891 non-null    int64  \n",
      " 2   Parch       891 non-null    int64  \n",
      " 3   Fare        891 non-null    float64\n",
      " 4   Survived    891 non-null    int64  \n",
      " 5   Pc_1        891 non-null    uint8  \n",
      " 6   Pc_2        891 non-null    uint8  \n",
      " 7   Pc_3        891 non-null    uint8  \n",
      " 8   Sex_female  891 non-null    uint8  \n",
      " 9   Sex_male    891 non-null    uint8  \n",
      "dtypes: float64(2), int64(3), uint8(5)\n",
      "memory usage: 39.3 KB\n"
     ]
    }
   ],
   "source": [
    "df.info()"
   ]
  },
  {
   "cell_type": "code",
   "execution_count": 22,
   "metadata": {
    "scrolled": true
   },
   "outputs": [
    {
     "data": {
      "text/plain": [
       "<AxesSubplot:title={'center':'Pearson Correlation of Features'}>"
      ]
     },
     "execution_count": 22,
     "metadata": {},
     "output_type": "execute_result"
    },
    {
     "data": {
      "image/png": "[encoded data removed]",
      "text/plain": [
       "<Figure size 864x864 with 2 Axes>"
      ]
     },
     "metadata": {
      "needs_background": "light"
     },
     "output_type": "display_data"
    }
   ],
   "source": [
    "colormap = plt.cm.viridis\n",
    "plt.figure(figsize=(12,12))\n",
    "plt.title('Pearson Correlation of Features', y=1.05, size=15)\n",
    "sns.heatmap(df.astype(float).corr(),linewidths=0.1,vmax=1.0, square=True, cmap=colormap, linecolor='white', annot=True)"
   ]
  },
  {
   "cell_type": "code",
   "execution_count": 23,
   "metadata": {
    "scrolled": false
   },
   "outputs": [
    {
     "data": {
      "text/html": [
       "<div>\n",
       "<style scoped>\n",
       "    .dataframe tbody tr th:only-of-type {\n",
       "        vertical-align: middle;\n",
       "    }\n",
       "\n",
       "    .dataframe tbody tr th {\n",
       "        vertical-align: top;\n",
       "    }\n",
       "\n",
       "    .dataframe thead th {\n",
       "        text-align: right;\n",
       "    }\n",
       "</style>\n",
       "<table border=\"1\" class=\"dataframe\">\n",
       "  <thead>\n",
       "    <tr style=\"text-align: right;\">\n",
       "      <th></th>\n",
       "      <th>Age</th>\n",
       "      <th>SibSp</th>\n",
       "      <th>Parch</th>\n",
       "      <th>Fare</th>\n",
       "      <th>Survived</th>\n",
       "      <th>Pc_1</th>\n",
       "      <th>Pc_2</th>\n",
       "      <th>Pc_3</th>\n",
       "      <th>Sex_female</th>\n",
       "      <th>Sex_male</th>\n",
       "    </tr>\n",
       "  </thead>\n",
       "  <tbody>\n",
       "    <tr>\n",
       "      <th>0</th>\n",
       "      <td>22.0</td>\n",
       "      <td>1</td>\n",
       "      <td>0</td>\n",
       "      <td>7.2500</td>\n",
       "      <td>0</td>\n",
       "      <td>0</td>\n",
       "      <td>0</td>\n",
       "      <td>1</td>\n",
       "      <td>0</td>\n",
       "      <td>1</td>\n",
       "    </tr>\n",
       "    <tr>\n",
       "      <th>1</th>\n",
       "      <td>38.0</td>\n",
       "      <td>1</td>\n",
       "      <td>0</td>\n",
       "      <td>71.2833</td>\n",
       "      <td>1</td>\n",
       "      <td>1</td>\n",
       "      <td>0</td>\n",
       "      <td>0</td>\n",
       "      <td>1</td>\n",
       "      <td>0</td>\n",
       "    </tr>\n",
       "    <tr>\n",
       "      <th>2</th>\n",
       "      <td>26.0</td>\n",
       "      <td>0</td>\n",
       "      <td>0</td>\n",
       "      <td>7.9250</td>\n",
       "      <td>1</td>\n",
       "      <td>0</td>\n",
       "      <td>0</td>\n",
       "      <td>1</td>\n",
       "      <td>1</td>\n",
       "      <td>0</td>\n",
       "    </tr>\n",
       "    <tr>\n",
       "      <th>3</th>\n",
       "      <td>35.0</td>\n",
       "      <td>1</td>\n",
       "      <td>0</td>\n",
       "      <td>53.1000</td>\n",
       "      <td>1</td>\n",
       "      <td>1</td>\n",
       "      <td>0</td>\n",
       "      <td>0</td>\n",
       "      <td>1</td>\n",
       "      <td>0</td>\n",
       "    </tr>\n",
       "    <tr>\n",
       "      <th>4</th>\n",
       "      <td>35.0</td>\n",
       "      <td>0</td>\n",
       "      <td>0</td>\n",
       "      <td>8.0500</td>\n",
       "      <td>0</td>\n",
       "      <td>0</td>\n",
       "      <td>0</td>\n",
       "      <td>1</td>\n",
       "      <td>0</td>\n",
       "      <td>1</td>\n",
       "    </tr>\n",
       "    <tr>\n",
       "      <th>...</th>\n",
       "      <td>...</td>\n",
       "      <td>...</td>\n",
       "      <td>...</td>\n",
       "      <td>...</td>\n",
       "      <td>...</td>\n",
       "      <td>...</td>\n",
       "      <td>...</td>\n",
       "      <td>...</td>\n",
       "      <td>...</td>\n",
       "      <td>...</td>\n",
       "    </tr>\n",
       "    <tr>\n",
       "      <th>886</th>\n",
       "      <td>27.0</td>\n",
       "      <td>0</td>\n",
       "      <td>0</td>\n",
       "      <td>13.0000</td>\n",
       "      <td>0</td>\n",
       "      <td>0</td>\n",
       "      <td>1</td>\n",
       "      <td>0</td>\n",
       "      <td>0</td>\n",
       "      <td>1</td>\n",
       "    </tr>\n",
       "    <tr>\n",
       "      <th>887</th>\n",
       "      <td>19.0</td>\n",
       "      <td>0</td>\n",
       "      <td>0</td>\n",
       "      <td>30.0000</td>\n",
       "      <td>1</td>\n",
       "      <td>1</td>\n",
       "      <td>0</td>\n",
       "      <td>0</td>\n",
       "      <td>1</td>\n",
       "      <td>0</td>\n",
       "    </tr>\n",
       "    <tr>\n",
       "      <th>888</th>\n",
       "      <td>28.0</td>\n",
       "      <td>1</td>\n",
       "      <td>2</td>\n",
       "      <td>23.4500</td>\n",
       "      <td>0</td>\n",
       "      <td>0</td>\n",
       "      <td>0</td>\n",
       "      <td>1</td>\n",
       "      <td>1</td>\n",
       "      <td>0</td>\n",
       "    </tr>\n",
       "    <tr>\n",
       "      <th>889</th>\n",
       "      <td>26.0</td>\n",
       "      <td>0</td>\n",
       "      <td>0</td>\n",
       "      <td>30.0000</td>\n",
       "      <td>1</td>\n",
       "      <td>1</td>\n",
       "      <td>0</td>\n",
       "      <td>0</td>\n",
       "      <td>0</td>\n",
       "      <td>1</td>\n",
       "    </tr>\n",
       "    <tr>\n",
       "      <th>890</th>\n",
       "      <td>32.0</td>\n",
       "      <td>0</td>\n",
       "      <td>0</td>\n",
       "      <td>7.7500</td>\n",
       "      <td>0</td>\n",
       "      <td>0</td>\n",
       "      <td>0</td>\n",
       "      <td>1</td>\n",
       "      <td>0</td>\n",
       "      <td>1</td>\n",
       "    </tr>\n",
       "  </tbody>\n",
       "</table>\n",
       "<p>891 rows × 10 columns</p>\n",
       "</div>"
      ],
      "text/plain": [
       "      Age  SibSp  Parch     Fare  Survived  Pc_1  Pc_2  Pc_3  Sex_female  \\\n",
       "0    22.0      1      0   7.2500         0     0     0     1           0   \n",
       "1    38.0      1      0  71.2833         1     1     0     0           1   \n",
       "2    26.0      0      0   7.9250         1     0     0     1           1   \n",
       "3    35.0      1      0  53.1000         1     1     0     0           1   \n",
       "4    35.0      0      0   8.0500         0     0     0     1           0   \n",
       "..    ...    ...    ...      ...       ...   ...   ...   ...         ...   \n",
       "886  27.0      0      0  13.0000         0     0     1     0           0   \n",
       "887  19.0      0      0  30.0000         1     1     0     0           1   \n",
       "888  28.0      1      2  23.4500         0     0     0     1           1   \n",
       "889  26.0      0      0  30.0000         1     1     0     0           0   \n",
       "890  32.0      0      0   7.7500         0     0     0     1           0   \n",
       "\n",
       "     Sex_male  \n",
       "0           1  \n",
       "1           0  \n",
       "2           0  \n",
       "3           0  \n",
       "4           1  \n",
       "..        ...  \n",
       "886         1  \n",
       "887         0  \n",
       "888         0  \n",
       "889         1  \n",
       "890         1  \n",
       "\n",
       "[891 rows x 10 columns]"
      ]
     },
     "execution_count": 23,
     "metadata": {},
     "output_type": "execute_result"
    }
   ],
   "source": [
    "df"
   ]
  },
  {
   "cell_type": "markdown",
   "metadata": {},
   "source": [
    "## Train Test split"
   ]
  },
  {
   "cell_type": "code",
   "execution_count": 24,
   "metadata": {
    "scrolled": true
   },
   "outputs": [
    {
     "name": "stdout",
     "output_type": "stream",
     "text": [
      "(712, 9)\n",
      "(712,)\n",
      "(179, 9)\n",
      "(179,)\n"
     ]
    }
   ],
   "source": [
    "from sklearn.model_selection import train_test_split\n",
    "X=df.drop(['Survived'],axis=1)\n",
    "y=df['Survived']\n",
    "\n",
    "y=np.ravel(y)\n",
    "X_train,X_test,y_train,y_test=train_test_split(X,y,test_size=0.2,random_state=1)\n",
    "print(X_train.shape)\n",
    "print(y_train.shape)\n",
    "print(X_test.shape)\n",
    "print(y_test.shape)"
   ]
  },
  {
   "cell_type": "markdown",
   "metadata": {},
   "source": [
    "## Model training"
   ]
  },
  {
   "cell_type": "code",
   "execution_count": 25,
   "metadata": {},
   "outputs": [
    {
     "data": {
      "text/html": [
       "<style>#sk-container-id-1 {color: black;background-color: white;}#sk-container-id-1 pre{padding: 0;}#sk-container-id-1 div.sk-toggleable {background-color: white;}#sk-container-id-1 label.sk-toggleable__label {cursor: pointer;display: block;width: 100%;margin-bottom: 0;padding: 0.3em;box-sizing: border-box;text-align: center;}#sk-container-id-1 label.sk-toggleable__label-arrow:before {content: \"▸\";float: left;margin-right: 0.25em;color: #696969;}#sk-container-id-1 label.sk-toggleable__label-arrow:hover:before {color: black;}#sk-container-id-1 div.sk-estimator:hover label.sk-toggleable__label-arrow:before {color: black;}#sk-container-id-1 div.sk-toggleable__content {max-height: 0;max-width: 0;overflow: hidden;text-align: left;background-color: #f0f8ff;}#sk-container-id-1 div.sk-toggleable__content pre {margin: 0.2em;color: black;border-radius: 0.25em;background-color: #f0f8ff;}#sk-container-id-1 input.sk-toggleable__control:checked~div.sk-toggleable__content {max-height: 200px;max-width: 100%;overflow: auto;}#sk-container-id-1 input.sk-toggleable__control:checked~label.sk-toggleable__label-arrow:before {content: \"▾\";}#sk-container-id-1 div.sk-estimator input.sk-toggleable__control:checked~label.sk-toggleable__label {background-color: #d4ebff;}#sk-container-id-1 div.sk-label input.sk-toggleable__control:checked~label.sk-toggleable__label {background-color: #d4ebff;}#sk-container-id-1 input.sk-hidden--visually {border: 0;clip: rect(1px 1px 1px 1px);clip: rect(1px, 1px, 1px, 1px);height: 1px;margin: -1px;overflow: hidden;padding: 0;position: absolute;width: 1px;}#sk-container-id-1 div.sk-estimator {font-family: monospace;background-color: #f0f8ff;border: 1px dotted black;border-radius: 0.25em;box-sizing: border-box;margin-bottom: 0.5em;}#sk-container-id-1 div.sk-estimator:hover {background-color: #d4ebff;}#sk-container-id-1 div.sk-parallel-item::after {content: \"\";width: 100%;border-bottom: 1px solid gray;flex-grow: 1;}#sk-container-id-1 div.sk-label:hover label.sk-toggleable__label {background-color: #d4ebff;}#sk-container-id-1 div.sk-serial::before {content: \"\";position: absolute;border-left: 1px solid gray;box-sizing: border-box;top: 0;bottom: 0;left: 50%;z-index: 0;}#sk-container-id-1 div.sk-serial {display: flex;flex-direction: column;align-items: center;background-color: white;padding-right: 0.2em;padding-left: 0.2em;position: relative;}#sk-container-id-1 div.sk-item {position: relative;z-index: 1;}#sk-container-id-1 div.sk-parallel {display: flex;align-items: stretch;justify-content: center;background-color: white;position: relative;}#sk-container-id-1 div.sk-item::before, #sk-container-id-1 div.sk-parallel-item::before {content: \"\";position: absolute;border-left: 1px solid gray;box-sizing: border-box;top: 0;bottom: 0;left: 50%;z-index: -1;}#sk-container-id-1 div.sk-parallel-item {display: flex;flex-direction: column;z-index: 1;position: relative;background-color: white;}#sk-container-id-1 div.sk-parallel-item:first-child::after {align-self: flex-end;width: 50%;}#sk-container-id-1 div.sk-parallel-item:last-child::after {align-self: flex-start;width: 50%;}#sk-container-id-1 div.sk-parallel-item:only-child::after {width: 0;}#sk-container-id-1 div.sk-dashed-wrapped {border: 1px dashed gray;margin: 0 0.4em 0.5em 0.4em;box-sizing: border-box;padding-bottom: 0.4em;background-color: white;}#sk-container-id-1 div.sk-label label {font-family: monospace;font-weight: bold;display: inline-block;line-height: 1.2em;}#sk-container-id-1 div.sk-label-container {text-align: center;}#sk-container-id-1 div.sk-container {/* jupyter's `normalize.less` sets `[hidden] { display: none; }` but bootstrap.min.css set `[hidden] { display: none !important; }` so we also need the `!important` here to be able to override the default hidden behavior on the sphinx rendered scikit-learn.org. See: https://github.com/scikit-learn/scikit-learn/issues/21755 */display: inline-block !important;position: relative;}#sk-container-id-1 div.sk-text-repr-fallback {display: none;}</style><div id=\"sk-container-id-1\" class=\"sk-top-container\"><div class=\"sk-text-repr-fallback\"><pre>DecisionTreeClassifier()</pre><b>In a Jupyter environment, please rerun this cell to show the HTML representation or trust the notebook. <br />On GitHub, the HTML representation is unable to render, please try loading this page with nbviewer.org.</b></div><div class=\"sk-container\" hidden><div class=\"sk-item\"><div class=\"sk-estimator sk-toggleable\"><input class=\"sk-toggleable__control sk-hidden--visually\" id=\"sk-estimator-id-1\" type=\"checkbox\" checked><label for=\"sk-estimator-id-1\" class=\"sk-toggleable__label sk-toggleable__label-arrow\">DecisionTreeClassifier</label><div class=\"sk-toggleable__content\"><pre>DecisionTreeClassifier()</pre></div></div></div></div></div>"
      ],
      "text/plain": [
       "DecisionTreeClassifier()"
      ]
     },
     "execution_count": 25,
     "metadata": {},
     "output_type": "execute_result"
    }
   ],
   "source": [
    "from sklearn.tree import DecisionTreeClassifier\n",
    "\n",
    "model=DecisionTreeClassifier(criterion='gini')\n",
    "model"
   ]
  },
  {
   "cell_type": "code",
   "execution_count": 26,
   "metadata": {},
   "outputs": [
    {
     "data": {
      "text/html": [
       "<style>#sk-container-id-2 {color: black;background-color: white;}#sk-container-id-2 pre{padding: 0;}#sk-container-id-2 div.sk-toggleable {background-color: white;}#sk-container-id-2 label.sk-toggleable__label {cursor: pointer;display: block;width: 100%;margin-bottom: 0;padding: 0.3em;box-sizing: border-box;text-align: center;}#sk-container-id-2 label.sk-toggleable__label-arrow:before {content: \"▸\";float: left;margin-right: 0.25em;color: #696969;}#sk-container-id-2 label.sk-toggleable__label-arrow:hover:before {color: black;}#sk-container-id-2 div.sk-estimator:hover label.sk-toggleable__label-arrow:before {color: black;}#sk-container-id-2 div.sk-toggleable__content {max-height: 0;max-width: 0;overflow: hidden;text-align: left;background-color: #f0f8ff;}#sk-container-id-2 div.sk-toggleable__content pre {margin: 0.2em;color: black;border-radius: 0.25em;background-color: #f0f8ff;}#sk-container-id-2 input.sk-toggleable__control:checked~div.sk-toggleable__content {max-height: 200px;max-width: 100%;overflow: auto;}#sk-container-id-2 input.sk-toggleable__control:checked~label.sk-toggleable__label-arrow:before {content: \"▾\";}#sk-container-id-2 div.sk-estimator input.sk-toggleable__control:checked~label.sk-toggleable__label {background-color: #d4ebff;}#sk-container-id-2 div.sk-label input.sk-toggleable__control:checked~label.sk-toggleable__label {background-color: #d4ebff;}#sk-container-id-2 input.sk-hidden--visually {border: 0;clip: rect(1px 1px 1px 1px);clip: rect(1px, 1px, 1px, 1px);height: 1px;margin: -1px;overflow: hidden;padding: 0;position: absolute;width: 1px;}#sk-container-id-2 div.sk-estimator {font-family: monospace;background-color: #f0f8ff;border: 1px dotted black;border-radius: 0.25em;box-sizing: border-box;margin-bottom: 0.5em;}#sk-container-id-2 div.sk-estimator:hover {background-color: #d4ebff;}#sk-container-id-2 div.sk-parallel-item::after {content: \"\";width: 100%;border-bottom: 1px solid gray;flex-grow: 1;}#sk-container-id-2 div.sk-label:hover label.sk-toggleable__label {background-color: #d4ebff;}#sk-container-id-2 div.sk-serial::before {content: \"\";position: absolute;border-left: 1px solid gray;box-sizing: border-box;top: 0;bottom: 0;left: 50%;z-index: 0;}#sk-container-id-2 div.sk-serial {display: flex;flex-direction: column;align-items: center;background-color: white;padding-right: 0.2em;padding-left: 0.2em;position: relative;}#sk-container-id-2 div.sk-item {position: relative;z-index: 1;}#sk-container-id-2 div.sk-parallel {display: flex;align-items: stretch;justify-content: center;background-color: white;position: relative;}#sk-container-id-2 div.sk-item::before, #sk-container-id-2 div.sk-parallel-item::before {content: \"\";position: absolute;border-left: 1px solid gray;box-sizing: border-box;top: 0;bottom: 0;left: 50%;z-index: -1;}#sk-container-id-2 div.sk-parallel-item {display: flex;flex-direction: column;z-index: 1;position: relative;background-color: white;}#sk-container-id-2 div.sk-parallel-item:first-child::after {align-self: flex-end;width: 50%;}#sk-container-id-2 div.sk-parallel-item:last-child::after {align-self: flex-start;width: 50%;}#sk-container-id-2 div.sk-parallel-item:only-child::after {width: 0;}#sk-container-id-2 div.sk-dashed-wrapped {border: 1px dashed gray;margin: 0 0.4em 0.5em 0.4em;box-sizing: border-box;padding-bottom: 0.4em;background-color: white;}#sk-container-id-2 div.sk-label label {font-family: monospace;font-weight: bold;display: inline-block;line-height: 1.2em;}#sk-container-id-2 div.sk-label-container {text-align: center;}#sk-container-id-2 div.sk-container {/* jupyter's `normalize.less` sets `[hidden] { display: none; }` but bootstrap.min.css set `[hidden] { display: none !important; }` so we also need the `!important` here to be able to override the default hidden behavior on the sphinx rendered scikit-learn.org. See: https://github.com/scikit-learn/scikit-learn/issues/21755 */display: inline-block !important;position: relative;}#sk-container-id-2 div.sk-text-repr-fallback {display: none;}</style><div id=\"sk-container-id-2\" class=\"sk-top-container\"><div class=\"sk-text-repr-fallback\"><pre>DecisionTreeClassifier()</pre><b>In a Jupyter environment, please rerun this cell to show the HTML representation or trust the notebook. <br />On GitHub, the HTML representation is unable to render, please try loading this page with nbviewer.org.</b></div><div class=\"sk-container\" hidden><div class=\"sk-item\"><div class=\"sk-estimator sk-toggleable\"><input class=\"sk-toggleable__control sk-hidden--visually\" id=\"sk-estimator-id-2\" type=\"checkbox\" checked><label for=\"sk-estimator-id-2\" class=\"sk-toggleable__label sk-toggleable__label-arrow\">DecisionTreeClassifier</label><div class=\"sk-toggleable__content\"><pre>DecisionTreeClassifier()</pre></div></div></div></div></div>"
      ],
      "text/plain": [
       "DecisionTreeClassifier()"
      ]
     },
     "execution_count": 26,
     "metadata": {},
     "output_type": "execute_result"
    }
   ],
   "source": [
    "model.fit(X_train,y_train)"
   ]
  },
  {
   "cell_type": "code",
   "execution_count": 27,
   "metadata": {
    "scrolled": true
   },
   "outputs": [
    {
     "data": {
      "text/plain": [
       "[Text(0.5223293439716312, 0.9736842105263158, 'X[7] <= 0.5\\ngini = 0.47\\nsamples = 712\\nvalue = [443, 269]'),\n",
       " Text(0.22074468085106383, 0.9210526315789473, 'X[0] <= 13.0\\ngini = 0.3\\nsamples = 463\\nvalue = [378, 85]'),\n",
       " Text(0.03546099290780142, 0.868421052631579, 'X[1] <= 2.5\\ngini = 0.458\\nsamples = 31\\nvalue = [11, 20]'),\n",
       " Text(0.02127659574468085, 0.8157894736842105, 'X[2] <= 0.5\\ngini = 0.095\\nsamples = 20\\nvalue = [1, 19]'),\n",
       " Text(0.014184397163120567, 0.7631578947368421, 'X[1] <= 0.5\\ngini = 0.5\\nsamples = 2\\nvalue = [1, 1]'),\n",
       " Text(0.0070921985815602835, 0.7105263157894737, 'gini = 0.0\\nsamples = 1\\nvalue = [1, 0]'),\n",
       " Text(0.02127659574468085, 0.7105263157894737, 'gini = 0.0\\nsamples = 1\\nvalue = [0, 1]'),\n",
       " Text(0.028368794326241134, 0.7631578947368421, 'gini = 0.0\\nsamples = 18\\nvalue = [0, 18]'),\n",
       " Text(0.04964539007092199, 0.8157894736842105, 'X[0] <= 3.5\\ngini = 0.165\\nsamples = 11\\nvalue = [10, 1]'),\n",
       " Text(0.0425531914893617, 0.7631578947368421, 'X[2] <= 1.5\\ngini = 0.375\\nsamples = 4\\nvalue = [3, 1]'),\n",
       " Text(0.03546099290780142, 0.7105263157894737, 'gini = 0.0\\nsamples = 3\\nvalue = [3, 0]'),\n",
       " Text(0.04964539007092199, 0.7105263157894737, 'gini = 0.0\\nsamples = 1\\nvalue = [0, 1]'),\n",
       " Text(0.05673758865248227, 0.7631578947368421, 'gini = 0.0\\nsamples = 7\\nvalue = [7, 0]'),\n",
       " Text(0.40602836879432624, 0.868421052631579, 'X[4] <= 0.5\\ngini = 0.256\\nsamples = 432\\nvalue = [367, 65]'),\n",
       " Text(0.2473404255319149, 0.8157894736842105, 'X[0] <= 28.75\\ngini = 0.177\\nsamples = 337\\nvalue = [304, 33]'),\n",
       " Text(0.11702127659574468, 0.7631578947368421, 'X[3] <= 7.24\\ngini = 0.146\\nsamples = 214\\nvalue = [197, 17]'),\n",
       " Text(0.06382978723404255, 0.7105263157894737, 'X[0] <= 27.5\\ngini = 0.266\\nsamples = 38\\nvalue = [32, 6]'),\n",
       " Text(0.04964539007092199, 0.6578947368421053, 'X[0] <= 19.5\\ngini = 0.388\\nsamples = 19\\nvalue = [14, 5]'),\n",
       " Text(0.0425531914893617, 0.6052631578947368, 'gini = 0.0\\nsamples = 6\\nvalue = [6, 0]'),\n",
       " Text(0.05673758865248227, 0.6052631578947368, 'X[3] <= 2.006\\ngini = 0.473\\nsamples = 13\\nvalue = [8, 5]'),\n",
       " Text(0.04964539007092199, 0.5526315789473685, 'gini = 0.0\\nsamples = 1\\nvalue = [0, 1]'),\n",
       " Text(0.06382978723404255, 0.5526315789473685, 'X[3] <= 7.133\\ngini = 0.444\\nsamples = 12\\nvalue = [8, 4]'),\n",
       " Text(0.04964539007092199, 0.5, 'X[0] <= 26.0\\ngini = 0.245\\nsamples = 7\\nvalue = [6, 1]'),\n",
       " Text(0.0425531914893617, 0.4473684210526316, 'gini = 0.0\\nsamples = 6\\nvalue = [6, 0]'),\n",
       " Text(0.05673758865248227, 0.4473684210526316, 'gini = 0.0\\nsamples = 1\\nvalue = [0, 1]'),\n",
       " Text(0.07801418439716312, 0.5, 'X[0] <= 22.75\\ngini = 0.48\\nsamples = 5\\nvalue = [2, 3]'),\n",
       " Text(0.07092198581560284, 0.4473684210526316, 'gini = 0.0\\nsamples = 2\\nvalue = [0, 2]'),\n",
       " Text(0.0851063829787234, 0.4473684210526316, 'X[3] <= 7.183\\ngini = 0.444\\nsamples = 3\\nvalue = [2, 1]'),\n",
       " Text(0.07801418439716312, 0.39473684210526316, 'gini = 0.0\\nsamples = 1\\nvalue = [0, 1]'),\n",
       " Text(0.09219858156028368, 0.39473684210526316, 'gini = 0.0\\nsamples = 2\\nvalue = [2, 0]'),\n",
       " Text(0.07801418439716312, 0.6578947368421053, 'X[3] <= 7.227\\ngini = 0.1\\nsamples = 19\\nvalue = [18, 1]'),\n",
       " Text(0.07092198581560284, 0.6052631578947368, 'gini = 0.0\\nsamples = 13\\nvalue = [13, 0]'),\n",
       " Text(0.0851063829787234, 0.6052631578947368, 'X[0] <= 28.25\\ngini = 0.278\\nsamples = 6\\nvalue = [5, 1]'),\n",
       " Text(0.07801418439716312, 0.5526315789473685, 'gini = 0.32\\nsamples = 5\\nvalue = [4, 1]'),\n",
       " Text(0.09219858156028368, 0.5526315789473685, 'gini = 0.0\\nsamples = 1\\nvalue = [1, 0]'),\n",
       " Text(0.1702127659574468, 0.7105263157894737, 'X[0] <= 20.25\\ngini = 0.117\\nsamples = 176\\nvalue = [165, 11]'),\n",
       " Text(0.1276595744680851, 0.6578947368421053, 'X[3] <= 8.104\\ngini = 0.214\\nsamples = 41\\nvalue = [36, 5]'),\n",
       " Text(0.11347517730496454, 0.6052631578947368, 'X[3] <= 7.91\\ngini = 0.375\\nsamples = 16\\nvalue = [12, 4]'),\n",
       " Text(0.10638297872340426, 0.5526315789473685, 'gini = 0.0\\nsamples = 9\\nvalue = [9, 0]'),\n",
       " Text(0.12056737588652482, 0.5526315789473685, 'X[0] <= 18.5\\ngini = 0.49\\nsamples = 7\\nvalue = [3, 4]'),\n",
       " Text(0.11347517730496454, 0.5, 'gini = 0.0\\nsamples = 2\\nvalue = [0, 2]'),\n",
       " Text(0.1276595744680851, 0.5, 'X[1] <= 0.5\\ngini = 0.48\\nsamples = 5\\nvalue = [3, 2]'),\n",
       " Text(0.12056737588652482, 0.4473684210526316, 'X[0] <= 19.5\\ngini = 0.375\\nsamples = 4\\nvalue = [3, 1]'),\n",
       " Text(0.11347517730496454, 0.39473684210526316, 'gini = 0.5\\nsamples = 2\\nvalue = [1, 1]'),\n",
       " Text(0.1276595744680851, 0.39473684210526316, 'gini = 0.0\\nsamples = 2\\nvalue = [2, 0]'),\n",
       " Text(0.1347517730496454, 0.4473684210526316, 'gini = 0.0\\nsamples = 1\\nvalue = [0, 1]'),\n",
       " Text(0.14184397163120568, 0.6052631578947368, 'X[5] <= 0.5\\ngini = 0.077\\nsamples = 25\\nvalue = [24, 1]'),\n",
       " Text(0.1347517730496454, 0.5526315789473685, 'gini = 0.0\\nsamples = 19\\nvalue = [19, 0]'),\n",
       " Text(0.14893617021276595, 0.5526315789473685, 'X[3] <= 11.0\\ngini = 0.278\\nsamples = 6\\nvalue = [5, 1]'),\n",
       " Text(0.14184397163120568, 0.5, 'gini = 0.0\\nsamples = 1\\nvalue = [0, 1]'),\n",
       " Text(0.15602836879432624, 0.5, 'gini = 0.0\\nsamples = 5\\nvalue = [5, 0]'),\n",
       " Text(0.2127659574468085, 0.6578947368421053, 'X[3] <= 13.681\\ngini = 0.085\\nsamples = 135\\nvalue = [129, 6]'),\n",
       " Text(0.19148936170212766, 0.6052631578947368, 'X[3] <= 7.798\\ngini = 0.059\\nsamples = 99\\nvalue = [96, 3]'),\n",
       " Text(0.1773049645390071, 0.5526315789473685, 'X[3] <= 7.785\\ngini = 0.114\\nsamples = 33\\nvalue = [31, 2]'),\n",
       " Text(0.1702127659574468, 0.5, 'gini = 0.0\\nsamples = 28\\nvalue = [28, 0]'),\n",
       " Text(0.18439716312056736, 0.5, 'X[0] <= 21.5\\ngini = 0.48\\nsamples = 5\\nvalue = [3, 2]'),\n",
       " Text(0.1773049645390071, 0.4473684210526316, 'gini = 0.0\\nsamples = 1\\nvalue = [0, 1]'),\n",
       " Text(0.19148936170212766, 0.4473684210526316, 'X[0] <= 25.5\\ngini = 0.375\\nsamples = 4\\nvalue = [3, 1]'),\n",
       " Text(0.18439716312056736, 0.39473684210526316, 'gini = 0.0\\nsamples = 2\\nvalue = [2, 0]'),\n",
       " Text(0.19858156028368795, 0.39473684210526316, 'X[0] <= 27.5\\ngini = 0.5\\nsamples = 2\\nvalue = [1, 1]'),\n",
       " Text(0.19148936170212766, 0.34210526315789475, 'gini = 0.0\\nsamples = 1\\nvalue = [0, 1]'),\n",
       " Text(0.20567375886524822, 0.34210526315789475, 'gini = 0.0\\nsamples = 1\\nvalue = [1, 0]'),\n",
       " Text(0.20567375886524822, 0.5526315789473685, 'X[3] <= 8.081\\ngini = 0.03\\nsamples = 66\\nvalue = [65, 1]'),\n",
       " Text(0.19858156028368795, 0.5, 'gini = 0.0\\nsamples = 43\\nvalue = [43, 0]'),\n",
       " Text(0.2127659574468085, 0.5, 'X[3] <= 8.273\\ngini = 0.083\\nsamples = 23\\nvalue = [22, 1]'),\n",
       " Text(0.20567375886524822, 0.4473684210526316, 'gini = 0.0\\nsamples = 1\\nvalue = [0, 1]'),\n",
       " Text(0.2198581560283688, 0.4473684210526316, 'gini = 0.0\\nsamples = 22\\nvalue = [22, 0]'),\n",
       " Text(0.23404255319148937, 0.6052631578947368, 'X[3] <= 14.158\\ngini = 0.153\\nsamples = 36\\nvalue = [33, 3]'),\n",
       " Text(0.22695035460992907, 0.5526315789473685, 'gini = 0.0\\nsamples = 1\\nvalue = [0, 1]'),\n",
       " Text(0.24113475177304963, 0.5526315789473685, 'X[1] <= 0.5\\ngini = 0.108\\nsamples = 35\\nvalue = [33, 2]'),\n",
       " Text(0.23404255319148937, 0.5, 'gini = 0.0\\nsamples = 14\\nvalue = [14, 0]'),\n",
       " Text(0.24822695035460993, 0.5, 'X[3] <= 15.373\\ngini = 0.172\\nsamples = 21\\nvalue = [19, 2]'),\n",
       " Text(0.23404255319148937, 0.4473684210526316, 'X[0] <= 27.5\\ngini = 0.5\\nsamples = 2\\nvalue = [1, 1]'),\n",
       " Text(0.22695035460992907, 0.39473684210526316, 'gini = 0.0\\nsamples = 1\\nvalue = [1, 0]'),\n",
       " Text(0.24113475177304963, 0.39473684210526316, 'gini = 0.0\\nsamples = 1\\nvalue = [0, 1]'),\n",
       " Text(0.2624113475177305, 0.4473684210526316, 'X[1] <= 1.5\\ngini = 0.1\\nsamples = 19\\nvalue = [18, 1]'),\n",
       " Text(0.2553191489361702, 0.39473684210526316, 'gini = 0.0\\nsamples = 12\\nvalue = [12, 0]'),\n",
       " Text(0.2695035460992908, 0.39473684210526316, 'X[3] <= 24.358\\ngini = 0.245\\nsamples = 7\\nvalue = [6, 1]'),\n",
       " Text(0.2624113475177305, 0.34210526315789475, 'X[3] <= 22.465\\ngini = 0.5\\nsamples = 2\\nvalue = [1, 1]'),\n",
       " Text(0.2553191489361702, 0.2894736842105263, 'gini = 0.0\\nsamples = 1\\nvalue = [1, 0]'),\n",
       " Text(0.2695035460992908, 0.2894736842105263, 'gini = 0.0\\nsamples = 1\\nvalue = [0, 1]'),\n",
       " Text(0.2765957446808511, 0.34210526315789475, 'gini = 0.0\\nsamples = 5\\nvalue = [5, 0]'),\n",
       " Text(0.3776595744680851, 0.7631578947368421, 'X[0] <= 32.25\\ngini = 0.226\\nsamples = 123\\nvalue = [107, 16]'),\n",
       " Text(0.3262411347517731, 0.7105263157894737, 'X[0] <= 30.75\\ngini = 0.424\\nsamples = 36\\nvalue = [25, 11]'),\n",
       " Text(0.2978723404255319, 0.6578947368421053, 'X[0] <= 29.5\\ngini = 0.266\\nsamples = 19\\nvalue = [16, 3]'),\n",
       " Text(0.28368794326241137, 0.6052631578947368, 'X[1] <= 0.5\\ngini = 0.48\\nsamples = 5\\nvalue = [3, 2]'),\n",
       " Text(0.2765957446808511, 0.5526315789473685, 'X[3] <= 7.763\\ngini = 0.444\\nsamples = 3\\nvalue = [1, 2]'),\n",
       " Text(0.2695035460992908, 0.5, 'gini = 0.0\\nsamples = 1\\nvalue = [0, 1]'),\n",
       " Text(0.28368794326241137, 0.5, 'X[3] <= 7.835\\ngini = 0.5\\nsamples = 2\\nvalue = [1, 1]'),\n",
       " Text(0.2765957446808511, 0.4473684210526316, 'gini = 0.0\\nsamples = 1\\nvalue = [1, 0]'),\n",
       " Text(0.2907801418439716, 0.4473684210526316, 'gini = 0.0\\nsamples = 1\\nvalue = [0, 1]'),\n",
       " Text(0.2907801418439716, 0.5526315789473685, 'gini = 0.0\\nsamples = 2\\nvalue = [2, 0]'),\n",
       " Text(0.3120567375886525, 0.6052631578947368, 'X[3] <= 8.775\\ngini = 0.133\\nsamples = 14\\nvalue = [13, 1]'),\n",
       " Text(0.3049645390070922, 0.5526315789473685, 'gini = 0.0\\nsamples = 7\\nvalue = [7, 0]'),\n",
       " Text(0.3191489361702128, 0.5526315789473685, 'X[3] <= 10.0\\ngini = 0.245\\nsamples = 7\\nvalue = [6, 1]'),\n",
       " Text(0.3120567375886525, 0.5, 'gini = 0.0\\nsamples = 1\\nvalue = [0, 1]'),\n",
       " Text(0.3262411347517731, 0.5, 'gini = 0.0\\nsamples = 6\\nvalue = [6, 0]'),\n",
       " Text(0.3546099290780142, 0.6578947368421053, 'X[3] <= 7.815\\ngini = 0.498\\nsamples = 17\\nvalue = [9, 8]'),\n",
       " Text(0.3475177304964539, 0.6052631578947368, 'gini = 0.0\\nsamples = 3\\nvalue = [3, 0]'),\n",
       " Text(0.3617021276595745, 0.6052631578947368, 'X[1] <= 0.5\\ngini = 0.49\\nsamples = 14\\nvalue = [6, 8]'),\n",
       " Text(0.3475177304964539, 0.5526315789473685, 'X[3] <= 11.75\\ngini = 0.42\\nsamples = 10\\nvalue = [3, 7]'),\n",
       " Text(0.3404255319148936, 0.5, 'X[3] <= 9.275\\ngini = 0.49\\nsamples = 7\\nvalue = [3, 4]'),\n",
       " Text(0.3333333333333333, 0.4473684210526316, 'X[3] <= 7.875\\ngini = 0.444\\nsamples = 6\\nvalue = [2, 4]'),\n",
       " Text(0.3262411347517731, 0.39473684210526316, 'gini = 0.0\\nsamples = 1\\nvalue = [0, 1]'),\n",
       " Text(0.3404255319148936, 0.39473684210526316, 'X[3] <= 7.91\\ngini = 0.48\\nsamples = 5\\nvalue = [2, 3]'),\n",
       " Text(0.3333333333333333, 0.34210526315789475, 'gini = 0.0\\nsamples = 1\\nvalue = [1, 0]'),\n",
       " Text(0.3475177304964539, 0.34210526315789475, 'X[0] <= 31.5\\ngini = 0.375\\nsamples = 4\\nvalue = [1, 3]'),\n",
       " Text(0.3404255319148936, 0.2894736842105263, 'gini = 0.0\\nsamples = 1\\nvalue = [0, 1]'),\n",
       " Text(0.3546099290780142, 0.2894736842105263, 'X[3] <= 7.988\\ngini = 0.444\\nsamples = 3\\nvalue = [1, 2]'),\n",
       " Text(0.3475177304964539, 0.23684210526315788, 'gini = 0.5\\nsamples = 2\\nvalue = [1, 1]'),\n",
       " Text(0.3617021276595745, 0.23684210526315788, 'gini = 0.0\\nsamples = 1\\nvalue = [0, 1]'),\n",
       " Text(0.3475177304964539, 0.4473684210526316, 'gini = 0.0\\nsamples = 1\\nvalue = [1, 0]'),\n",
       " Text(0.3546099290780142, 0.5, 'gini = 0.0\\nsamples = 3\\nvalue = [0, 3]'),\n",
       " Text(0.375886524822695, 0.5526315789473685, 'X[3] <= 26.125\\ngini = 0.375\\nsamples = 4\\nvalue = [3, 1]'),\n",
       " Text(0.36879432624113473, 0.5, 'X[5] <= 0.5\\ngini = 0.5\\nsamples = 2\\nvalue = [1, 1]'),\n",
       " Text(0.3617021276595745, 0.4473684210526316, 'gini = 0.0\\nsamples = 1\\nvalue = [1, 0]'),\n",
       " Text(0.375886524822695, 0.4473684210526316, 'gini = 0.0\\nsamples = 1\\nvalue = [0, 1]'),\n",
       " Text(0.3829787234042553, 0.5, 'gini = 0.0\\nsamples = 2\\nvalue = [2, 0]'),\n",
       " Text(0.42907801418439717, 0.7105263157894737, 'X[3] <= 13.25\\ngini = 0.108\\nsamples = 87\\nvalue = [82, 5]'),\n",
       " Text(0.4219858156028369, 0.6578947368421053, 'X[3] <= 7.91\\ngini = 0.15\\nsamples = 61\\nvalue = [56, 5]'),\n",
       " Text(0.4148936170212766, 0.6052631578947368, 'gini = 0.0\\nsamples = 24\\nvalue = [24, 0]'),\n",
       " Text(0.42907801418439717, 0.6052631578947368, 'X[0] <= 38.5\\ngini = 0.234\\nsamples = 37\\nvalue = [32, 5]'),\n",
       " Text(0.40425531914893614, 0.5526315789473685, 'X[3] <= 12.938\\ngini = 0.117\\nsamples = 16\\nvalue = [15, 1]'),\n",
       " Text(0.3971631205673759, 0.5, 'gini = 0.0\\nsamples = 12\\nvalue = [12, 0]'),\n",
       " Text(0.41134751773049644, 0.5, 'X[0] <= 35.0\\ngini = 0.375\\nsamples = 4\\nvalue = [3, 1]'),\n",
       " Text(0.40425531914893614, 0.4473684210526316, 'gini = 0.444\\nsamples = 3\\nvalue = [2, 1]'),\n",
       " Text(0.41843971631205673, 0.4473684210526316, 'gini = 0.0\\nsamples = 1\\nvalue = [1, 0]'),\n",
       " Text(0.45390070921985815, 0.5526315789473685, 'X[0] <= 46.0\\ngini = 0.308\\nsamples = 21\\nvalue = [17, 4]'),\n",
       " Text(0.4397163120567376, 0.5, 'X[0] <= 44.5\\ngini = 0.42\\nsamples = 10\\nvalue = [7, 3]'),\n",
       " Text(0.4326241134751773, 0.4473684210526316, 'X[0] <= 42.5\\ngini = 0.346\\nsamples = 9\\nvalue = [7, 2]'),\n",
       " Text(0.425531914893617, 0.39473684210526316, 'X[2] <= 0.5\\ngini = 0.444\\nsamples = 6\\nvalue = [4, 2]'),\n",
       " Text(0.41843971631205673, 0.34210526315789475, 'X[3] <= 10.463\\ngini = 0.48\\nsamples = 5\\nvalue = [3, 2]'),\n",
       " Text(0.41134751773049644, 0.2894736842105263, 'gini = 0.5\\nsamples = 2\\nvalue = [1, 1]'),\n",
       " Text(0.425531914893617, 0.2894736842105263, 'X[0] <= 40.5\\ngini = 0.444\\nsamples = 3\\nvalue = [2, 1]'),\n",
       " Text(0.41843971631205673, 0.23684210526315788, 'gini = 0.0\\nsamples = 1\\nvalue = [1, 0]'),\n",
       " Text(0.4326241134751773, 0.23684210526315788, 'gini = 0.5\\nsamples = 2\\nvalue = [1, 1]'),\n",
       " Text(0.4326241134751773, 0.34210526315789475, 'gini = 0.0\\nsamples = 1\\nvalue = [1, 0]'),\n",
       " Text(0.4397163120567376, 0.39473684210526316, 'gini = 0.0\\nsamples = 3\\nvalue = [3, 0]'),\n",
       " Text(0.44680851063829785, 0.4473684210526316, 'gini = 0.0\\nsamples = 1\\nvalue = [0, 1]'),\n",
       " Text(0.46808510638297873, 0.5, 'X[0] <= 59.5\\ngini = 0.165\\nsamples = 11\\nvalue = [10, 1]'),\n",
       " Text(0.46099290780141844, 0.4473684210526316, 'gini = 0.0\\nsamples = 8\\nvalue = [8, 0]'),\n",
       " Text(0.475177304964539, 0.4473684210526316, 'X[0] <= 64.0\\ngini = 0.444\\nsamples = 3\\nvalue = [2, 1]'),\n",
       " Text(0.46808510638297873, 0.39473684210526316, 'gini = 0.0\\nsamples = 1\\nvalue = [0, 1]'),\n",
       " Text(0.48226950354609927, 0.39473684210526316, 'gini = 0.0\\nsamples = 2\\nvalue = [2, 0]'),\n",
       " Text(0.43617021276595747, 0.6578947368421053, 'gini = 0.0\\nsamples = 26\\nvalue = [26, 0]'),\n",
       " Text(0.5647163120567376, 0.8157894736842105, 'X[3] <= 26.144\\ngini = 0.447\\nsamples = 95\\nvalue = [63, 32]'),\n",
       " Text(0.5576241134751773, 0.7631578947368421, 'gini = 0.0\\nsamples = 7\\nvalue = [7, 0]'),\n",
       " Text(0.5718085106382979, 0.7631578947368421, 'X[3] <= 26.469\\ngini = 0.463\\nsamples = 88\\nvalue = [56, 32]'),\n",
       " Text(0.5647163120567376, 0.7105263157894737, 'gini = 0.0\\nsamples = 3\\nvalue = [0, 3]'),\n",
       " Text(0.5789007092198581, 0.7105263157894737, 'X[3] <= 30.598\\ngini = 0.45\\nsamples = 85\\nvalue = [56, 29]'),\n",
       " Text(0.5390070921985816, 0.6578947368421053, 'X[0] <= 53.5\\ngini = 0.499\\nsamples = 25\\nvalue = [13, 12]'),\n",
       " Text(0.524822695035461, 0.6052631578947368, 'X[3] <= 30.25\\ngini = 0.475\\nsamples = 18\\nvalue = [7, 11]'),\n",
       " Text(0.5177304964539007, 0.5526315789473685, 'X[0] <= 46.5\\ngini = 0.498\\nsamples = 15\\nvalue = [7, 8]'),\n",
       " Text(0.5106382978723404, 0.5, 'X[0] <= 36.0\\ngini = 0.497\\nsamples = 13\\nvalue = [7, 6]'),\n",
       " Text(0.5035460992907801, 0.4473684210526316, 'X[0] <= 31.5\\ngini = 0.48\\nsamples = 10\\nvalue = [4, 6]'),\n",
       " Text(0.49645390070921985, 0.39473684210526316, 'X[3] <= 28.71\\ngini = 0.5\\nsamples = 8\\nvalue = [4, 4]'),\n",
       " Text(0.48226950354609927, 0.34210526315789475, 'X[3] <= 27.135\\ngini = 0.375\\nsamples = 4\\nvalue = [3, 1]'),\n",
       " Text(0.475177304964539, 0.2894736842105263, 'gini = 0.5\\nsamples = 2\\nvalue = [1, 1]'),\n",
       " Text(0.48936170212765956, 0.2894736842105263, 'gini = 0.0\\nsamples = 2\\nvalue = [2, 0]'),\n",
       " Text(0.5106382978723404, 0.34210526315789475, 'X[0] <= 28.5\\ngini = 0.375\\nsamples = 4\\nvalue = [1, 3]'),\n",
       " Text(0.5035460992907801, 0.2894736842105263, 'gini = 0.0\\nsamples = 3\\nvalue = [0, 3]'),\n",
       " Text(0.5177304964539007, 0.2894736842105263, 'gini = 0.0\\nsamples = 1\\nvalue = [1, 0]'),\n",
       " Text(0.5106382978723404, 0.39473684210526316, 'gini = 0.0\\nsamples = 2\\nvalue = [0, 2]'),\n",
       " Text(0.5177304964539007, 0.4473684210526316, 'gini = 0.0\\nsamples = 3\\nvalue = [3, 0]'),\n",
       " Text(0.524822695035461, 0.5, 'gini = 0.0\\nsamples = 2\\nvalue = [0, 2]'),\n",
       " Text(0.5319148936170213, 0.5526315789473685, 'gini = 0.0\\nsamples = 3\\nvalue = [0, 3]'),\n",
       " Text(0.5531914893617021, 0.6052631578947368, 'X[0] <= 72.5\\ngini = 0.245\\nsamples = 7\\nvalue = [6, 1]'),\n",
       " Text(0.5460992907801419, 0.5526315789473685, 'gini = 0.0\\nsamples = 6\\nvalue = [6, 0]'),\n",
       " Text(0.5602836879432624, 0.5526315789473685, 'gini = 0.0\\nsamples = 1\\nvalue = [0, 1]'),\n",
       " Text(0.6187943262411347, 0.6578947368421053, 'X[1] <= 0.5\\ngini = 0.406\\nsamples = 60\\nvalue = [43, 17]'),\n",
       " Text(0.5851063829787234, 0.6052631578947368, 'X[0] <= 19.0\\ngini = 0.291\\nsamples = 34\\nvalue = [28, 6]'),\n",
       " Text(0.5780141843971631, 0.5526315789473685, 'gini = 0.0\\nsamples = 1\\nvalue = [0, 1]'),\n",
       " Text(0.5921985815602837, 0.5526315789473685, 'X[3] <= 379.925\\ngini = 0.257\\nsamples = 33\\nvalue = [28, 5]'),\n",
       " Text(0.5851063829787234, 0.5, 'X[3] <= 37.0\\ngini = 0.219\\nsamples = 32\\nvalue = [28, 4]'),\n",
       " Text(0.5602836879432624, 0.4473684210526316, 'X[3] <= 35.25\\ngini = 0.397\\nsamples = 11\\nvalue = [8, 3]'),\n",
       " Text(0.5460992907801419, 0.39473684210526316, 'X[0] <= 43.5\\ngini = 0.219\\nsamples = 8\\nvalue = [7, 1]'),\n",
       " Text(0.5390070921985816, 0.34210526315789475, 'X[0] <= 34.0\\ngini = 0.375\\nsamples = 4\\nvalue = [3, 1]'),\n",
       " Text(0.5319148936170213, 0.2894736842105263, 'gini = 0.0\\nsamples = 3\\nvalue = [3, 0]'),\n",
       " Text(0.5460992907801419, 0.2894736842105263, 'gini = 0.0\\nsamples = 1\\nvalue = [0, 1]'),\n",
       " Text(0.5531914893617021, 0.34210526315789475, 'gini = 0.0\\nsamples = 4\\nvalue = [4, 0]'),\n",
       " Text(0.574468085106383, 0.39473684210526316, 'X[0] <= 36.5\\ngini = 0.444\\nsamples = 3\\nvalue = [1, 2]'),\n",
       " Text(0.5673758865248227, 0.34210526315789475, 'gini = 0.0\\nsamples = 1\\nvalue = [0, 1]'),\n",
       " Text(0.5815602836879432, 0.34210526315789475, 'X[0] <= 50.5\\ngini = 0.5\\nsamples = 2\\nvalue = [1, 1]'),\n",
       " Text(0.574468085106383, 0.2894736842105263, 'gini = 0.0\\nsamples = 1\\nvalue = [1, 0]'),\n",
       " Text(0.5886524822695035, 0.2894736842105263, 'gini = 0.0\\nsamples = 1\\nvalue = [0, 1]'),\n",
       " Text(0.6099290780141844, 0.4473684210526316, 'X[0] <= 23.5\\ngini = 0.091\\nsamples = 21\\nvalue = [20, 1]'),\n",
       " Text(0.6028368794326241, 0.39473684210526316, 'X[0] <= 22.5\\ngini = 0.444\\nsamples = 3\\nvalue = [2, 1]'),\n",
       " Text(0.5957446808510638, 0.34210526315789475, 'gini = 0.0\\nsamples = 2\\nvalue = [2, 0]'),\n",
       " Text(0.6099290780141844, 0.34210526315789475, 'gini = 0.0\\nsamples = 1\\nvalue = [0, 1]'),\n",
       " Text(0.6170212765957447, 0.39473684210526316, 'gini = 0.0\\nsamples = 18\\nvalue = [18, 0]'),\n",
       " Text(0.599290780141844, 0.5, 'gini = 0.0\\nsamples = 1\\nvalue = [0, 1]'),\n",
       " Text(0.6524822695035462, 0.6052631578947368, 'X[0] <= 22.0\\ngini = 0.488\\nsamples = 26\\nvalue = [15, 11]'),\n",
       " Text(0.6453900709219859, 0.5526315789473685, 'gini = 0.0\\nsamples = 3\\nvalue = [3, 0]'),\n",
       " Text(0.6595744680851063, 0.5526315789473685, 'X[0] <= 62.0\\ngini = 0.499\\nsamples = 23\\nvalue = [12, 11]'),\n",
       " Text(0.6524822695035462, 0.5, 'X[3] <= 115.442\\ngini = 0.499\\nsamples = 21\\nvalue = [10, 11]'),\n",
       " Text(0.6453900709219859, 0.4473684210526316, 'X[3] <= 98.752\\ngini = 0.499\\nsamples = 19\\nvalue = [10, 9]'),\n",
       " Text(0.6382978723404256, 0.39473684210526316, 'X[0] <= 47.0\\ngini = 0.498\\nsamples = 17\\nvalue = [8, 9]'),\n",
       " Text(0.624113475177305, 0.34210526315789475, 'X[0] <= 43.0\\ngini = 0.486\\nsamples = 12\\nvalue = [7, 5]'),\n",
       " Text(0.6170212765957447, 0.2894736842105263, 'X[3] <= 84.425\\ngini = 0.494\\nsamples = 9\\nvalue = [4, 5]'),\n",
       " Text(0.6099290780141844, 0.23684210526315788, 'X[3] <= 61.8\\ngini = 0.49\\nsamples = 7\\nvalue = [4, 3]'),\n",
       " Text(0.6028368794326241, 0.18421052631578946, 'X[3] <= 52.277\\ngini = 0.48\\nsamples = 5\\nvalue = [2, 3]'),\n",
       " Text(0.5957446808510638, 0.13157894736842105, 'gini = 0.0\\nsamples = 1\\nvalue = [1, 0]'),\n",
       " Text(0.6099290780141844, 0.13157894736842105, 'X[3] <= 52.827\\ngini = 0.375\\nsamples = 4\\nvalue = [1, 3]'),\n",
       " Text(0.6028368794326241, 0.07894736842105263, 'gini = 0.0\\nsamples = 2\\nvalue = [0, 2]'),\n",
       " Text(0.6170212765957447, 0.07894736842105263, 'X[0] <= 34.0\\ngini = 0.5\\nsamples = 2\\nvalue = [1, 1]'),\n",
       " Text(0.6099290780141844, 0.02631578947368421, 'gini = 0.0\\nsamples = 1\\nvalue = [0, 1]'),\n",
       " Text(0.624113475177305, 0.02631578947368421, 'gini = 0.0\\nsamples = 1\\nvalue = [1, 0]'),\n",
       " Text(0.6170212765957447, 0.18421052631578946, 'gini = 0.0\\nsamples = 2\\nvalue = [2, 0]'),\n",
       " Text(0.624113475177305, 0.23684210526315788, 'gini = 0.0\\nsamples = 2\\nvalue = [0, 2]'),\n",
       " Text(0.6312056737588653, 0.2894736842105263, 'gini = 0.0\\nsamples = 3\\nvalue = [3, 0]'),\n",
       " Text(0.6524822695035462, 0.34210526315789475, 'X[3] <= 66.315\\ngini = 0.32\\nsamples = 5\\nvalue = [1, 4]'),\n",
       " Text(0.6453900709219859, 0.2894736842105263, 'X[0] <= 49.0\\ngini = 0.5\\nsamples = 2\\nvalue = [1, 1]'),\n",
       " Text(0.6382978723404256, 0.23684210526315788, 'gini = 0.0\\nsamples = 1\\nvalue = [0, 1]'),\n",
       " Text(0.6524822695035462, 0.23684210526315788, 'gini = 0.0\\nsamples = 1\\nvalue = [1, 0]'),\n",
       " Text(0.6595744680851063, 0.2894736842105263, 'gini = 0.0\\nsamples = 3\\nvalue = [0, 3]'),\n",
       " Text(0.6524822695035462, 0.39473684210526316, 'gini = 0.0\\nsamples = 2\\nvalue = [2, 0]'),\n",
       " Text(0.6595744680851063, 0.4473684210526316, 'gini = 0.0\\nsamples = 2\\nvalue = [0, 2]'),\n",
       " Text(0.6666666666666666, 0.5, 'gini = 0.0\\nsamples = 2\\nvalue = [2, 0]'),\n",
       " Text(0.8239140070921985, 0.9210526315789473, 'X[6] <= 0.5\\ngini = 0.386\\nsamples = 249\\nvalue = [65, 184]'),\n",
       " Text(0.7163120567375887, 0.868421052631579, 'X[0] <= 2.5\\ngini = 0.096\\nsamples = 139\\nvalue = [7, 132]'),\n",
       " Text(0.7021276595744681, 0.8157894736842105, 'X[2] <= 1.5\\ngini = 0.5\\nsamples = 2\\nvalue = [1, 1]'),\n",
       " Text(0.6950354609929078, 0.7631578947368421, 'gini = 0.0\\nsamples = 1\\nvalue = [0, 1]'),\n",
       " Text(0.7092198581560284, 0.7631578947368421, 'gini = 0.0\\nsamples = 1\\nvalue = [1, 0]'),\n",
       " Text(0.7304964539007093, 0.8157894736842105, 'X[3] <= 28.856\\ngini = 0.084\\nsamples = 137\\nvalue = [6, 131]'),\n",
       " Text(0.723404255319149, 0.7631578947368421, 'X[3] <= 28.231\\ngini = 0.198\\nsamples = 54\\nvalue = [6, 48]'),\n",
       " Text(0.7163120567375887, 0.7105263157894737, 'X[1] <= 0.5\\ngini = 0.171\\nsamples = 53\\nvalue = [5, 48]'),\n",
       " Text(0.6950354609929078, 0.6578947368421053, 'X[3] <= 13.25\\ngini = 0.1\\nsamples = 38\\nvalue = [2, 36]'),\n",
       " Text(0.6879432624113475, 0.6052631578947368, 'X[3] <= 12.825\\ngini = 0.172\\nsamples = 21\\nvalue = [2, 19]'),\n",
       " Text(0.6808510638297872, 0.5526315789473685, 'gini = 0.0\\nsamples = 9\\nvalue = [0, 9]'),\n",
       " Text(0.6950354609929078, 0.5526315789473685, 'X[0] <= 37.0\\ngini = 0.278\\nsamples = 12\\nvalue = [2, 10]'),\n",
       " Text(0.6808510638297872, 0.5, 'X[0] <= 26.0\\ngini = 0.18\\nsamples = 10\\nvalue = [1, 9]'),\n",
       " Text(0.6737588652482269, 0.4473684210526316, 'X[0] <= 21.0\\ngini = 0.444\\nsamples = 3\\nvalue = [1, 2]'),\n",
       " Text(0.6666666666666666, 0.39473684210526316, 'gini = 0.0\\nsamples = 1\\nvalue = [0, 1]'),\n",
       " Text(0.6808510638297872, 0.39473684210526316, 'gini = 0.5\\nsamples = 2\\nvalue = [1, 1]'),\n",
       " Text(0.6879432624113475, 0.4473684210526316, 'gini = 0.0\\nsamples = 7\\nvalue = [0, 7]'),\n",
       " Text(0.7092198581560284, 0.5, 'X[0] <= 39.0\\ngini = 0.5\\nsamples = 2\\nvalue = [1, 1]'),\n",
       " Text(0.7021276595744681, 0.4473684210526316, 'gini = 0.0\\nsamples = 1\\nvalue = [1, 0]'),\n",
       " Text(0.7163120567375887, 0.4473684210526316, 'gini = 0.0\\nsamples = 1\\nvalue = [0, 1]'),\n",
       " Text(0.7021276595744681, 0.6052631578947368, 'gini = 0.0\\nsamples = 17\\nvalue = [0, 17]'),\n",
       " Text(0.7375886524822695, 0.6578947368421053, 'X[3] <= 22.0\\ngini = 0.32\\nsamples = 15\\nvalue = [3, 12]'),\n",
       " Text(0.7304964539007093, 0.6052631578947368, 'gini = 0.0\\nsamples = 1\\nvalue = [1, 0]'),\n",
       " Text(0.7446808510638298, 0.6052631578947368, 'X[0] <= 43.0\\ngini = 0.245\\nsamples = 14\\nvalue = [2, 12]'),\n",
       " Text(0.7304964539007093, 0.5526315789473685, 'X[2] <= 0.5\\ngini = 0.165\\nsamples = 11\\nvalue = [1, 10]'),\n",
       " Text(0.723404255319149, 0.5, 'gini = 0.0\\nsamples = 6\\nvalue = [0, 6]'),\n",
       " Text(0.7375886524822695, 0.5, 'X[3] <= 26.125\\ngini = 0.32\\nsamples = 5\\nvalue = [1, 4]'),\n",
       " Text(0.7304964539007093, 0.4473684210526316, 'X[3] <= 24.5\\ngini = 0.5\\nsamples = 2\\nvalue = [1, 1]'),\n",
       " Text(0.723404255319149, 0.39473684210526316, 'gini = 0.0\\nsamples = 1\\nvalue = [0, 1]'),\n",
       " Text(0.7375886524822695, 0.39473684210526316, 'gini = 0.0\\nsamples = 1\\nvalue = [1, 0]'),\n",
       " Text(0.7446808510638298, 0.4473684210526316, 'gini = 0.0\\nsamples = 3\\nvalue = [0, 3]'),\n",
       " Text(0.7588652482269503, 0.5526315789473685, 'X[0] <= 44.5\\ngini = 0.444\\nsamples = 3\\nvalue = [1, 2]'),\n",
       " Text(0.75177304964539, 0.5, 'gini = 0.0\\nsamples = 1\\nvalue = [1, 0]'),\n",
       " Text(0.7659574468085106, 0.5, 'gini = 0.0\\nsamples = 2\\nvalue = [0, 2]'),\n",
       " Text(0.7304964539007093, 0.7105263157894737, 'gini = 0.0\\nsamples = 1\\nvalue = [1, 0]'),\n",
       " Text(0.7375886524822695, 0.7631578947368421, 'gini = 0.0\\nsamples = 83\\nvalue = [0, 83]'),\n",
       " Text(0.9315159574468085, 0.868421052631579, 'X[3] <= 23.35\\ngini = 0.499\\nsamples = 110\\nvalue = [58, 52]'),\n",
       " Text(0.8914007092198581, 0.8157894736842105, 'X[0] <= 28.5\\ngini = 0.492\\nsamples = 89\\nvalue = [39, 50]'),\n",
       " Text(0.8324468085106383, 0.7631578947368421, 'X[3] <= 21.55\\ngini = 0.464\\nsamples = 71\\nvalue = [26, 45]'),\n",
       " Text(0.825354609929078, 0.7105263157894737, 'X[3] <= 20.167\\ngini = 0.475\\nsamples = 67\\nvalue = [26, 41]'),\n",
       " Text(0.8182624113475178, 0.6578947368421053, 'X[0] <= 16.5\\ngini = 0.466\\nsamples = 65\\nvalue = [24, 41]'),\n",
       " Text(0.7801418439716312, 0.6052631578947368, 'X[0] <= 7.0\\ngini = 0.245\\nsamples = 14\\nvalue = [2, 12]'),\n",
       " Text(0.7730496453900709, 0.5526315789473685, 'gini = 0.0\\nsamples = 6\\nvalue = [0, 6]'),\n",
       " Text(0.7872340425531915, 0.5526315789473685, 'X[3] <= 13.244\\ngini = 0.375\\nsamples = 8\\nvalue = [2, 6]'),\n",
       " Text(0.7801418439716312, 0.5, 'X[3] <= 7.802\\ngini = 0.245\\nsamples = 7\\nvalue = [1, 6]'),\n",
       " Text(0.7730496453900709, 0.4473684210526316, 'gini = 0.0\\nsamples = 4\\nvalue = [0, 4]'),\n",
       " Text(0.7872340425531915, 0.4473684210526316, 'X[3] <= 7.942\\ngini = 0.444\\nsamples = 3\\nvalue = [1, 2]'),\n",
       " Text(0.7801418439716312, 0.39473684210526316, 'gini = 0.0\\nsamples = 1\\nvalue = [1, 0]'),\n",
       " Text(0.7943262411347518, 0.39473684210526316, 'gini = 0.0\\nsamples = 2\\nvalue = [0, 2]'),\n",
       " Text(0.7943262411347518, 0.5, 'gini = 0.0\\nsamples = 1\\nvalue = [1, 0]'),\n",
       " Text(0.8563829787234043, 0.6052631578947368, 'X[3] <= 7.888\\ngini = 0.491\\nsamples = 51\\nvalue = [22, 29]'),\n",
       " Text(0.8297872340425532, 0.5526315789473685, 'X[3] <= 7.781\\ngini = 0.417\\nsamples = 27\\nvalue = [8, 19]'),\n",
       " Text(0.8226950354609929, 0.5, 'X[3] <= 7.763\\ngini = 0.488\\nsamples = 19\\nvalue = [8, 11]'),\n",
       " Text(0.8156028368794326, 0.4473684210526316, 'X[2] <= 1.0\\ngini = 0.457\\nsamples = 17\\nvalue = [6, 11]'),\n",
       " Text(0.8085106382978723, 0.39473684210526316, 'X[3] <= 6.99\\ngini = 0.43\\nsamples = 16\\nvalue = [5, 11]'),\n",
       " Text(0.8014184397163121, 0.34210526315789475, 'gini = 0.0\\nsamples = 1\\nvalue = [1, 0]'),\n",
       " Text(0.8156028368794326, 0.34210526315789475, 'X[3] <= 7.523\\ngini = 0.391\\nsamples = 15\\nvalue = [4, 11]'),\n",
       " Text(0.8085106382978723, 0.2894736842105263, 'gini = 0.0\\nsamples = 3\\nvalue = [0, 3]'),\n",
       " Text(0.8226950354609929, 0.2894736842105263, 'X[3] <= 7.681\\ngini = 0.444\\nsamples = 12\\nvalue = [4, 8]'),\n",
       " Text(0.8156028368794326, 0.23684210526315788, 'gini = 0.0\\nsamples = 2\\nvalue = [2, 0]'),\n",
       " Text(0.8297872340425532, 0.23684210526315788, 'X[0] <= 21.5\\ngini = 0.32\\nsamples = 10\\nvalue = [2, 8]'),\n",
       " Text(0.8226950354609929, 0.18421052631578946, 'gini = 0.0\\nsamples = 1\\nvalue = [1, 0]'),\n",
       " Text(0.8368794326241135, 0.18421052631578946, 'X[3] <= 7.744\\ngini = 0.198\\nsamples = 9\\nvalue = [1, 8]'),\n",
       " Text(0.8297872340425532, 0.13157894736842105, 'gini = 0.0\\nsamples = 2\\nvalue = [0, 2]'),\n",
       " Text(0.8439716312056738, 0.13157894736842105, 'X[0] <= 25.0\\ngini = 0.245\\nsamples = 7\\nvalue = [1, 6]'),\n",
       " Text(0.8368794326241135, 0.07894736842105263, 'gini = 0.0\\nsamples = 1\\nvalue = [0, 1]'),\n",
       " Text(0.851063829787234, 0.07894736842105263, 'gini = 0.278\\nsamples = 6\\nvalue = [1, 5]'),\n",
       " Text(0.8226950354609929, 0.39473684210526316, 'gini = 0.0\\nsamples = 1\\nvalue = [1, 0]'),\n",
       " Text(0.8297872340425532, 0.4473684210526316, 'gini = 0.0\\nsamples = 2\\nvalue = [2, 0]'),\n",
       " Text(0.8368794326241135, 0.5, 'gini = 0.0\\nsamples = 8\\nvalue = [0, 8]'),\n",
       " Text(0.8829787234042553, 0.5526315789473685, 'X[3] <= 15.373\\ngini = 0.486\\nsamples = 24\\nvalue = [14, 10]'),\n",
       " Text(0.8581560283687943, 0.5, 'X[0] <= 19.0\\ngini = 0.375\\nsamples = 16\\nvalue = [12, 4]'),\n",
       " Text(0.8439716312056738, 0.4473684210526316, 'X[3] <= 12.15\\ngini = 0.375\\nsamples = 4\\nvalue = [1, 3]'),\n",
       " Text(0.8368794326241135, 0.39473684210526316, 'gini = 0.0\\nsamples = 3\\nvalue = [0, 3]'),\n",
       " Text(0.851063829787234, 0.39473684210526316, 'gini = 0.0\\nsamples = 1\\nvalue = [1, 0]'),\n",
       " Text(0.8723404255319149, 0.4473684210526316, 'X[2] <= 0.5\\ngini = 0.153\\nsamples = 12\\nvalue = [11, 1]'),\n",
       " Text(0.8652482269503546, 0.39473684210526316, 'gini = 0.0\\nsamples = 9\\nvalue = [9, 0]'),\n",
       " Text(0.8794326241134752, 0.39473684210526316, 'X[0] <= 27.5\\ngini = 0.444\\nsamples = 3\\nvalue = [2, 1]'),\n",
       " Text(0.8723404255319149, 0.34210526315789475, 'gini = 0.0\\nsamples = 1\\nvalue = [0, 1]'),\n",
       " Text(0.8865248226950354, 0.34210526315789475, 'gini = 0.0\\nsamples = 2\\nvalue = [2, 0]'),\n",
       " Text(0.9078014184397163, 0.5, 'X[0] <= 21.0\\ngini = 0.375\\nsamples = 8\\nvalue = [2, 6]'),\n",
       " Text(0.900709219858156, 0.4473684210526316, 'gini = 0.0\\nsamples = 1\\nvalue = [1, 0]'),\n",
       " Text(0.9148936170212766, 0.4473684210526316, 'X[0] <= 27.0\\ngini = 0.245\\nsamples = 7\\nvalue = [1, 6]'),\n",
       " Text(0.9078014184397163, 0.39473684210526316, 'X[2] <= 1.0\\ngini = 0.444\\nsamples = 3\\nvalue = [1, 2]'),\n",
       " Text(0.900709219858156, 0.34210526315789475, 'gini = 0.0\\nsamples = 1\\nvalue = [1, 0]'),\n",
       " Text(0.9148936170212766, 0.34210526315789475, 'gini = 0.0\\nsamples = 2\\nvalue = [0, 2]'),\n",
       " Text(0.9219858156028369, 0.39473684210526316, 'gini = 0.0\\nsamples = 4\\nvalue = [0, 4]'),\n",
       " Text(0.8324468085106383, 0.6578947368421053, 'gini = 0.0\\nsamples = 2\\nvalue = [2, 0]'),\n",
       " Text(0.8395390070921985, 0.7105263157894737, 'gini = 0.0\\nsamples = 4\\nvalue = [0, 4]'),\n",
       " Text(0.950354609929078, 0.7631578947368421, 'X[0] <= 55.0\\ngini = 0.401\\nsamples = 18\\nvalue = [13, 5]'),\n",
       " Text(0.9432624113475178, 0.7105263157894737, 'X[3] <= 20.231\\ngini = 0.36\\nsamples = 17\\nvalue = [13, 4]'),\n",
       " Text(0.9290780141843972, 0.6578947368421053, 'X[3] <= 11.469\\ngini = 0.245\\nsamples = 14\\nvalue = [12, 2]'),\n",
       " Text(0.9219858156028369, 0.6052631578947368, 'gini = 0.0\\nsamples = 7\\nvalue = [7, 0]'),\n",
       " Text(0.9361702127659575, 0.6052631578947368, 'X[0] <= 30.5\\ngini = 0.408\\nsamples = 7\\nvalue = [5, 2]'),\n",
       " Text(0.9290780141843972, 0.5526315789473685, 'gini = 0.0\\nsamples = 1\\nvalue = [0, 1]'),\n",
       " Text(0.9432624113475178, 0.5526315789473685, 'X[2] <= 0.5\\ngini = 0.278\\nsamples = 6\\nvalue = [5, 1]'),\n",
       " Text(0.9361702127659575, 0.5, 'X[0] <= 33.5\\ngini = 0.444\\nsamples = 3\\nvalue = [2, 1]'),\n",
       " Text(0.9290780141843972, 0.4473684210526316, 'gini = 0.0\\nsamples = 1\\nvalue = [1, 0]'),\n",
       " Text(0.9432624113475178, 0.4473684210526316, 'X[0] <= 41.5\\ngini = 0.5\\nsamples = 2\\nvalue = [1, 1]'),\n",
       " Text(0.9361702127659575, 0.39473684210526316, 'gini = 0.0\\nsamples = 1\\nvalue = [0, 1]'),\n",
       " Text(0.950354609929078, 0.39473684210526316, 'gini = 0.0\\nsamples = 1\\nvalue = [1, 0]'),\n",
       " Text(0.950354609929078, 0.5, 'gini = 0.0\\nsamples = 3\\nvalue = [3, 0]'),\n",
       " Text(0.9574468085106383, 0.6578947368421053, 'X[0] <= 30.0\\ngini = 0.444\\nsamples = 3\\nvalue = [1, 2]'),\n",
       " Text(0.950354609929078, 0.6052631578947368, 'gini = 0.0\\nsamples = 1\\nvalue = [1, 0]'),\n",
       " Text(0.9645390070921985, 0.6052631578947368, 'gini = 0.0\\nsamples = 2\\nvalue = [0, 2]'),\n",
       " Text(0.9574468085106383, 0.7105263157894737, 'gini = 0.0\\nsamples = 1\\nvalue = [0, 1]'),\n",
       " Text(0.9716312056737588, 0.8157894736842105, 'X[2] <= 0.5\\ngini = 0.172\\nsamples = 21\\nvalue = [19, 2]'),\n",
       " Text(0.9645390070921985, 0.7631578947368421, 'gini = 0.0\\nsamples = 1\\nvalue = [0, 1]'),\n",
       " Text(0.9787234042553191, 0.7631578947368421, 'X[2] <= 4.5\\ngini = 0.095\\nsamples = 20\\nvalue = [19, 1]'),\n",
       " Text(0.9716312056737588, 0.7105263157894737, 'gini = 0.0\\nsamples = 17\\nvalue = [17, 0]'),\n",
       " Text(0.9858156028368794, 0.7105263157894737, 'X[0] <= 39.5\\ngini = 0.444\\nsamples = 3\\nvalue = [2, 1]'),\n",
       " Text(0.9787234042553191, 0.6578947368421053, 'gini = 0.0\\nsamples = 1\\nvalue = [0, 1]'),\n",
       " Text(0.9929078014184397, 0.6578947368421053, 'gini = 0.0\\nsamples = 2\\nvalue = [2, 0]')]"
      ]
     },
     "execution_count": 27,
     "metadata": {},
     "output_type": "execute_result"
    },
    {
     "data": {
      "image/png": "[encoded data removed]",
      "text/plain": [
       "<Figure size 1080x720 with 1 Axes>"
      ]
     },
     "metadata": {
      "needs_background": "light"
     },
     "output_type": "display_data"
    }
   ],
   "source": [
    "from sklearn import tree\n",
    "plt.figure(figsize=(15,10))\n",
    "tree.plot_tree(model,filled=True)"
   ]
  },
  {
   "cell_type": "markdown",
   "metadata": {},
   "source": [
    "## Model Evaluation"
   ]
  },
  {
   "cell_type": "code",
   "execution_count": 28,
   "metadata": {},
   "outputs": [
    {
     "data": {
      "text/plain": [
       "array([[89, 17],\n",
       "       [27, 46]], dtype=int64)"
      ]
     },
     "execution_count": 28,
     "metadata": {},
     "output_type": "execute_result"
    }
   ],
   "source": [
    "from sklearn.metrics import accuracy_score,confusion_matrix,precision_recall_curve,roc_auc_score,f1_score,classification_report\n",
    "confusion_matrix(y_test,model.predict(X_test))"
   ]
  },
  {
   "cell_type": "code",
   "execution_count": 29,
   "metadata": {},
   "outputs": [
    {
     "name": "stdout",
     "output_type": "stream",
     "text": [
      "roc_auc_score:  0.7348798139054018\n"
     ]
    },
    {
     "name": "stderr",
     "output_type": "stream",
     "text": [
      "D:\\Anaconda\\lib\\site-packages\\sklearn\\utils\\deprecation.py:87: FutureWarning: Function plot_roc_curve is deprecated; Function :func:`plot_roc_curve` is deprecated in 1.0 and will be removed in 1.2. Use one of the class methods: :meth:`sklearn.metrics.RocCurveDisplay.from_predictions` or :meth:`sklearn.metrics.RocCurveDisplay.from_estimator`.\n",
      "  warnings.warn(msg, category=FutureWarning)\n"
     ]
    },
    {
     "data": {
      "text/plain": [
       "<sklearn.metrics._plot.roc_curve.RocCurveDisplay at 0x19dba5360d0>"
      ]
     },
     "execution_count": 29,
     "metadata": {},
     "output_type": "execute_result"
    },
    {
     "data": {
      "image/png": "[encoded data removed]",
      "text/plain": [
       "<Figure size 432x288 with 1 Axes>"
      ]
     },
     "metadata": {
      "needs_background": "light"
     },
     "output_type": "display_data"
    }
   ],
   "source": [
    "from sklearn.metrics import roc_curve,plot_roc_curve\n",
    "print('roc_auc_score: ', roc_auc_score(y_test, model.predict(X_test)))\n",
    "roc_curve(y_test, model.predict(X_test))\n",
    "plot_roc_curve(model,X,y)"
   ]
  },
  {
   "cell_type": "code",
   "execution_count": 30,
   "metadata": {},
   "outputs": [
    {
     "name": "stdout",
     "output_type": "stream",
     "text": [
      "train set accuracy score : 0.9873595505617978\n",
      "test set accuracy score : 0.7541899441340782\n"
     ]
    }
   ],
   "source": [
    "print(\"train set accuracy score :\",accuracy_score(y_train,model.predict(X_train)))\n",
    "print(\"test set accuracy score :\",  accuracy_score(y_test,model.predict(X_test)))"
   ]
  },
  {
   "cell_type": "code",
   "execution_count": 31,
   "metadata": {
    "scrolled": true
   },
   "outputs": [
    {
     "data": {
      "text/plain": [
       "array([1, 0, 1, 0, 1, 0, 0, 1, 0, 1, 0, 0, 0, 0, 1, 0, 0, 0, 0, 0, 0, 0,\n",
       "       1, 0, 0, 0, 1, 1, 0, 1, 0, 1, 1, 0, 0, 0, 1, 0, 1, 0, 0, 1, 1, 0,\n",
       "       1, 0, 0, 0, 1, 1, 0, 1, 1, 0, 1, 0, 1, 0, 0, 0, 0, 0, 0, 0, 1, 1,\n",
       "       0, 0, 1, 0, 1, 0, 0, 0, 1, 0, 1, 0, 0, 1, 0, 0, 0, 0, 1, 1, 0, 0,\n",
       "       0, 0, 0, 0, 0, 1, 0, 0, 0, 1, 0, 0, 0, 0, 1, 0, 1, 0, 1, 1, 0, 0,\n",
       "       1, 1, 0, 0, 0, 0, 0, 0, 1, 0, 1, 1, 0, 0, 1, 1, 1, 0, 0, 0, 0, 0,\n",
       "       1, 0, 0, 1, 1, 1, 0, 0, 1, 0, 1, 0, 0, 0, 0, 0, 1, 0, 1, 0, 0, 1,\n",
       "       0, 1, 0, 0, 0, 0, 0, 0, 0, 1, 0, 0, 1, 0, 1, 0, 1, 0, 1, 0, 1, 0,\n",
       "       0, 0, 1], dtype=int64)"
      ]
     },
     "execution_count": 31,
     "metadata": {},
     "output_type": "execute_result"
    }
   ],
   "source": [
    "y_pred=model.predict(X_test)\n",
    "y_pred"
   ]
  },
  {
   "cell_type": "markdown",
   "metadata": {},
   "source": [
    "## Grid Search"
   ]
  },
  {
   "cell_type": "code",
   "execution_count": 32,
   "metadata": {},
   "outputs": [],
   "source": [
    "from sklearn.tree import DecisionTreeClassifier\n",
    "\n",
    "model=DecisionTreeClassifier()"
   ]
  },
  {
   "cell_type": "code",
   "execution_count": 33,
   "metadata": {},
   "outputs": [],
   "source": [
    "parameter ={\n",
    " \"criterion\" : [\"gini\",\"entropy\"],\n",
    " \"max_depth\" : [1,2,3,4,5,6,7,None],\n",
    " \"max_features\": ['sqrt', 'log2', None]\n",
    "}"
   ]
  },
  {
   "cell_type": "code",
   "execution_count": 34,
   "metadata": {},
   "outputs": [],
   "source": [
    "from sklearn.model_selection import GridSearchCV\n",
    "grid = GridSearchCV(model, parameter,scoring='accuracy', cv=10)"
   ]
  },
  {
   "cell_type": "code",
   "execution_count": 35,
   "metadata": {},
   "outputs": [
    {
     "data": {
      "text/html": [
       "<style>#sk-container-id-3 {color: black;background-color: white;}#sk-container-id-3 pre{padding: 0;}#sk-container-id-3 div.sk-toggleable {background-color: white;}#sk-container-id-3 label.sk-toggleable__label {cursor: pointer;display: block;width: 100%;margin-bottom: 0;padding: 0.3em;box-sizing: border-box;text-align: center;}#sk-container-id-3 label.sk-toggleable__label-arrow:before {content: \"▸\";float: left;margin-right: 0.25em;color: #696969;}#sk-container-id-3 label.sk-toggleable__label-arrow:hover:before {color: black;}#sk-container-id-3 div.sk-estimator:hover label.sk-toggleable__label-arrow:before {color: black;}#sk-container-id-3 div.sk-toggleable__content {max-height: 0;max-width: 0;overflow: hidden;text-align: left;background-color: #f0f8ff;}#sk-container-id-3 div.sk-toggleable__content pre {margin: 0.2em;color: black;border-radius: 0.25em;background-color: #f0f8ff;}#sk-container-id-3 input.sk-toggleable__control:checked~div.sk-toggleable__content {max-height: 200px;max-width: 100%;overflow: auto;}#sk-container-id-3 input.sk-toggleable__control:checked~label.sk-toggleable__label-arrow:before {content: \"▾\";}#sk-container-id-3 div.sk-estimator input.sk-toggleable__control:checked~label.sk-toggleable__label {background-color: #d4ebff;}#sk-container-id-3 div.sk-label input.sk-toggleable__control:checked~label.sk-toggleable__label {background-color: #d4ebff;}#sk-container-id-3 input.sk-hidden--visually {border: 0;clip: rect(1px 1px 1px 1px);clip: rect(1px, 1px, 1px, 1px);height: 1px;margin: -1px;overflow: hidden;padding: 0;position: absolute;width: 1px;}#sk-container-id-3 div.sk-estimator {font-family: monospace;background-color: #f0f8ff;border: 1px dotted black;border-radius: 0.25em;box-sizing: border-box;margin-bottom: 0.5em;}#sk-container-id-3 div.sk-estimator:hover {background-color: #d4ebff;}#sk-container-id-3 div.sk-parallel-item::after {content: \"\";width: 100%;border-bottom: 1px solid gray;flex-grow: 1;}#sk-container-id-3 div.sk-label:hover label.sk-toggleable__label {background-color: #d4ebff;}#sk-container-id-3 div.sk-serial::before {content: \"\";position: absolute;border-left: 1px solid gray;box-sizing: border-box;top: 0;bottom: 0;left: 50%;z-index: 0;}#sk-container-id-3 div.sk-serial {display: flex;flex-direction: column;align-items: center;background-color: white;padding-right: 0.2em;padding-left: 0.2em;position: relative;}#sk-container-id-3 div.sk-item {position: relative;z-index: 1;}#sk-container-id-3 div.sk-parallel {display: flex;align-items: stretch;justify-content: center;background-color: white;position: relative;}#sk-container-id-3 div.sk-item::before, #sk-container-id-3 div.sk-parallel-item::before {content: \"\";position: absolute;border-left: 1px solid gray;box-sizing: border-box;top: 0;bottom: 0;left: 50%;z-index: -1;}#sk-container-id-3 div.sk-parallel-item {display: flex;flex-direction: column;z-index: 1;position: relative;background-color: white;}#sk-container-id-3 div.sk-parallel-item:first-child::after {align-self: flex-end;width: 50%;}#sk-container-id-3 div.sk-parallel-item:last-child::after {align-self: flex-start;width: 50%;}#sk-container-id-3 div.sk-parallel-item:only-child::after {width: 0;}#sk-container-id-3 div.sk-dashed-wrapped {border: 1px dashed gray;margin: 0 0.4em 0.5em 0.4em;box-sizing: border-box;padding-bottom: 0.4em;background-color: white;}#sk-container-id-3 div.sk-label label {font-family: monospace;font-weight: bold;display: inline-block;line-height: 1.2em;}#sk-container-id-3 div.sk-label-container {text-align: center;}#sk-container-id-3 div.sk-container {/* jupyter's `normalize.less` sets `[hidden] { display: none; }` but bootstrap.min.css set `[hidden] { display: none !important; }` so we also need the `!important` here to be able to override the default hidden behavior on the sphinx rendered scikit-learn.org. See: https://github.com/scikit-learn/scikit-learn/issues/21755 */display: inline-block !important;position: relative;}#sk-container-id-3 div.sk-text-repr-fallback {display: none;}</style><div id=\"sk-container-id-3\" class=\"sk-top-container\"><div class=\"sk-text-repr-fallback\"><pre>GridSearchCV(cv=10, estimator=DecisionTreeClassifier(),\n",
       "             param_grid={&#x27;criterion&#x27;: [&#x27;gini&#x27;, &#x27;entropy&#x27;],\n",
       "                         &#x27;max_depth&#x27;: [1, 2, 3, 4, 5, 6, 7, None],\n",
       "                         &#x27;max_features&#x27;: [&#x27;sqrt&#x27;, &#x27;log2&#x27;, None]},\n",
       "             scoring=&#x27;accuracy&#x27;)</pre><b>In a Jupyter environment, please rerun this cell to show the HTML representation or trust the notebook. <br />On GitHub, the HTML representation is unable to render, please try loading this page with nbviewer.org.</b></div><div class=\"sk-container\" hidden><div class=\"sk-item sk-dashed-wrapped\"><div class=\"sk-label-container\"><div class=\"sk-label sk-toggleable\"><input class=\"sk-toggleable__control sk-hidden--visually\" id=\"sk-estimator-id-3\" type=\"checkbox\" ><label for=\"sk-estimator-id-3\" class=\"sk-toggleable__label sk-toggleable__label-arrow\">GridSearchCV</label><div class=\"sk-toggleable__content\"><pre>GridSearchCV(cv=10, estimator=DecisionTreeClassifier(),\n",
       "             param_grid={&#x27;criterion&#x27;: [&#x27;gini&#x27;, &#x27;entropy&#x27;],\n",
       "                         &#x27;max_depth&#x27;: [1, 2, 3, 4, 5, 6, 7, None],\n",
       "                         &#x27;max_features&#x27;: [&#x27;sqrt&#x27;, &#x27;log2&#x27;, None]},\n",
       "             scoring=&#x27;accuracy&#x27;)</pre></div></div></div><div class=\"sk-parallel\"><div class=\"sk-parallel-item\"><div class=\"sk-item\"><div class=\"sk-label-container\"><div class=\"sk-label sk-toggleable\"><input class=\"sk-toggleable__control sk-hidden--visually\" id=\"sk-estimator-id-4\" type=\"checkbox\" ><label for=\"sk-estimator-id-4\" class=\"sk-toggleable__label sk-toggleable__label-arrow\">estimator: DecisionTreeClassifier</label><div class=\"sk-toggleable__content\"><pre>DecisionTreeClassifier()</pre></div></div></div><div class=\"sk-serial\"><div class=\"sk-item\"><div class=\"sk-estimator sk-toggleable\"><input class=\"sk-toggleable__control sk-hidden--visually\" id=\"sk-estimator-id-5\" type=\"checkbox\" ><label for=\"sk-estimator-id-5\" class=\"sk-toggleable__label sk-toggleable__label-arrow\">DecisionTreeClassifier</label><div class=\"sk-toggleable__content\"><pre>DecisionTreeClassifier()</pre></div></div></div></div></div></div></div></div></div></div>"
      ],
      "text/plain": [
       "GridSearchCV(cv=10, estimator=DecisionTreeClassifier(),\n",
       "             param_grid={'criterion': ['gini', 'entropy'],\n",
       "                         'max_depth': [1, 2, 3, 4, 5, 6, 7, None],\n",
       "                         'max_features': ['sqrt', 'log2', None]},\n",
       "             scoring='accuracy')"
      ]
     },
     "execution_count": 35,
     "metadata": {},
     "output_type": "execute_result"
    }
   ],
   "source": [
    "grid.fit(X_train, y_train)"
   ]
  },
  {
   "cell_type": "code",
   "execution_count": 36,
   "metadata": {
    "scrolled": true
   },
   "outputs": [
    {
     "data": {
      "text/plain": [
       "0.834370109546166"
      ]
     },
     "execution_count": 36,
     "metadata": {},
     "output_type": "execute_result"
    }
   ],
   "source": [
    "grid.best_score_"
   ]
  },
  {
   "cell_type": "code",
   "execution_count": 37,
   "metadata": {},
   "outputs": [
    {
     "data": {
      "text/plain": [
       "{'criterion': 'gini', 'max_depth': 5, 'max_features': 'log2'}"
      ]
     },
     "execution_count": 37,
     "metadata": {},
     "output_type": "execute_result"
    }
   ],
   "source": [
    "grid.best_params_"
   ]
  },
  {
   "cell_type": "code",
   "execution_count": 38,
   "metadata": {
    "scrolled": true
   },
   "outputs": [
    {
     "name": "stdout",
     "output_type": "stream",
     "text": [
      "Accuracy score for train data is: 0.8469101123595506\n",
      "Accuracy score for test data is: 0.8156424581005587\n"
     ]
    }
   ],
   "source": [
    "print('Accuracy score for train data is:', accuracy_score(y_train,grid.predict(X_train)))\n",
    "print('Accuracy score for test data is:', accuracy_score(y_test,grid.predict(X_test)))"
   ]
  },
  {
   "cell_type": "code",
   "execution_count": 39,
   "metadata": {},
   "outputs": [
    {
     "data": {
      "text/html": [
       "<div>\n",
       "<style scoped>\n",
       "    .dataframe tbody tr th:only-of-type {\n",
       "        vertical-align: middle;\n",
       "    }\n",
       "\n",
       "    .dataframe tbody tr th {\n",
       "        vertical-align: top;\n",
       "    }\n",
       "\n",
       "    .dataframe thead th {\n",
       "        text-align: right;\n",
       "    }\n",
       "</style>\n",
       "<table border=\"1\" class=\"dataframe\">\n",
       "  <thead>\n",
       "    <tr style=\"text-align: right;\">\n",
       "      <th></th>\n",
       "      <th>Age</th>\n",
       "      <th>SibSp</th>\n",
       "      <th>Parch</th>\n",
       "      <th>Fare</th>\n",
       "      <th>Survived</th>\n",
       "      <th>Pc_1</th>\n",
       "      <th>Pc_2</th>\n",
       "      <th>Pc_3</th>\n",
       "      <th>Sex_female</th>\n",
       "      <th>Sex_male</th>\n",
       "    </tr>\n",
       "  </thead>\n",
       "  <tbody>\n",
       "    <tr>\n",
       "      <th>0</th>\n",
       "      <td>22.0</td>\n",
       "      <td>1</td>\n",
       "      <td>0</td>\n",
       "      <td>7.2500</td>\n",
       "      <td>0</td>\n",
       "      <td>0</td>\n",
       "      <td>0</td>\n",
       "      <td>1</td>\n",
       "      <td>0</td>\n",
       "      <td>1</td>\n",
       "    </tr>\n",
       "    <tr>\n",
       "      <th>1</th>\n",
       "      <td>38.0</td>\n",
       "      <td>1</td>\n",
       "      <td>0</td>\n",
       "      <td>71.2833</td>\n",
       "      <td>1</td>\n",
       "      <td>1</td>\n",
       "      <td>0</td>\n",
       "      <td>0</td>\n",
       "      <td>1</td>\n",
       "      <td>0</td>\n",
       "    </tr>\n",
       "    <tr>\n",
       "      <th>2</th>\n",
       "      <td>26.0</td>\n",
       "      <td>0</td>\n",
       "      <td>0</td>\n",
       "      <td>7.9250</td>\n",
       "      <td>1</td>\n",
       "      <td>0</td>\n",
       "      <td>0</td>\n",
       "      <td>1</td>\n",
       "      <td>1</td>\n",
       "      <td>0</td>\n",
       "    </tr>\n",
       "    <tr>\n",
       "      <th>3</th>\n",
       "      <td>35.0</td>\n",
       "      <td>1</td>\n",
       "      <td>0</td>\n",
       "      <td>53.1000</td>\n",
       "      <td>1</td>\n",
       "      <td>1</td>\n",
       "      <td>0</td>\n",
       "      <td>0</td>\n",
       "      <td>1</td>\n",
       "      <td>0</td>\n",
       "    </tr>\n",
       "    <tr>\n",
       "      <th>4</th>\n",
       "      <td>35.0</td>\n",
       "      <td>0</td>\n",
       "      <td>0</td>\n",
       "      <td>8.0500</td>\n",
       "      <td>0</td>\n",
       "      <td>0</td>\n",
       "      <td>0</td>\n",
       "      <td>1</td>\n",
       "      <td>0</td>\n",
       "      <td>1</td>\n",
       "    </tr>\n",
       "    <tr>\n",
       "      <th>...</th>\n",
       "      <td>...</td>\n",
       "      <td>...</td>\n",
       "      <td>...</td>\n",
       "      <td>...</td>\n",
       "      <td>...</td>\n",
       "      <td>...</td>\n",
       "      <td>...</td>\n",
       "      <td>...</td>\n",
       "      <td>...</td>\n",
       "      <td>...</td>\n",
       "    </tr>\n",
       "    <tr>\n",
       "      <th>886</th>\n",
       "      <td>27.0</td>\n",
       "      <td>0</td>\n",
       "      <td>0</td>\n",
       "      <td>13.0000</td>\n",
       "      <td>0</td>\n",
       "      <td>0</td>\n",
       "      <td>1</td>\n",
       "      <td>0</td>\n",
       "      <td>0</td>\n",
       "      <td>1</td>\n",
       "    </tr>\n",
       "    <tr>\n",
       "      <th>887</th>\n",
       "      <td>19.0</td>\n",
       "      <td>0</td>\n",
       "      <td>0</td>\n",
       "      <td>30.0000</td>\n",
       "      <td>1</td>\n",
       "      <td>1</td>\n",
       "      <td>0</td>\n",
       "      <td>0</td>\n",
       "      <td>1</td>\n",
       "      <td>0</td>\n",
       "    </tr>\n",
       "    <tr>\n",
       "      <th>888</th>\n",
       "      <td>28.0</td>\n",
       "      <td>1</td>\n",
       "      <td>2</td>\n",
       "      <td>23.4500</td>\n",
       "      <td>0</td>\n",
       "      <td>0</td>\n",
       "      <td>0</td>\n",
       "      <td>1</td>\n",
       "      <td>1</td>\n",
       "      <td>0</td>\n",
       "    </tr>\n",
       "    <tr>\n",
       "      <th>889</th>\n",
       "      <td>26.0</td>\n",
       "      <td>0</td>\n",
       "      <td>0</td>\n",
       "      <td>30.0000</td>\n",
       "      <td>1</td>\n",
       "      <td>1</td>\n",
       "      <td>0</td>\n",
       "      <td>0</td>\n",
       "      <td>0</td>\n",
       "      <td>1</td>\n",
       "    </tr>\n",
       "    <tr>\n",
       "      <th>890</th>\n",
       "      <td>32.0</td>\n",
       "      <td>0</td>\n",
       "      <td>0</td>\n",
       "      <td>7.7500</td>\n",
       "      <td>0</td>\n",
       "      <td>0</td>\n",
       "      <td>0</td>\n",
       "      <td>1</td>\n",
       "      <td>0</td>\n",
       "      <td>1</td>\n",
       "    </tr>\n",
       "  </tbody>\n",
       "</table>\n",
       "<p>891 rows × 10 columns</p>\n",
       "</div>"
      ],
      "text/plain": [
       "      Age  SibSp  Parch     Fare  Survived  Pc_1  Pc_2  Pc_3  Sex_female  \\\n",
       "0    22.0      1      0   7.2500         0     0     0     1           0   \n",
       "1    38.0      1      0  71.2833         1     1     0     0           1   \n",
       "2    26.0      0      0   7.9250         1     0     0     1           1   \n",
       "3    35.0      1      0  53.1000         1     1     0     0           1   \n",
       "4    35.0      0      0   8.0500         0     0     0     1           0   \n",
       "..    ...    ...    ...      ...       ...   ...   ...   ...         ...   \n",
       "886  27.0      0      0  13.0000         0     0     1     0           0   \n",
       "887  19.0      0      0  30.0000         1     1     0     0           1   \n",
       "888  28.0      1      2  23.4500         0     0     0     1           1   \n",
       "889  26.0      0      0  30.0000         1     1     0     0           0   \n",
       "890  32.0      0      0   7.7500         0     0     0     1           0   \n",
       "\n",
       "     Sex_male  \n",
       "0           1  \n",
       "1           0  \n",
       "2           0  \n",
       "3           0  \n",
       "4           1  \n",
       "..        ...  \n",
       "886         1  \n",
       "887         0  \n",
       "888         0  \n",
       "889         1  \n",
       "890         1  \n",
       "\n",
       "[891 rows x 10 columns]"
      ]
     },
     "execution_count": 39,
     "metadata": {},
     "output_type": "execute_result"
    }
   ],
   "source": [
    "df"
   ]
  },
  {
   "cell_type": "code",
   "execution_count": null,
   "metadata": {},
   "outputs": [],
   "source": []
  },
  {
   "cell_type": "code",
   "execution_count": null,
   "metadata": {},
   "outputs": [],
   "source": []
  }
 ],
 "metadata": {
  "kernelspec": {
   "display_name": "Python 3",
   "language": "python",
   "name": "python3"
  },
  "language_info": {
   "codemirror_mode": {
    "name": "ipython",
    "version": 3
   },
   "file_extension": ".py",
   "mimetype": "text/x-python",
   "name": "python",
   "nbconvert_exporter": "python",
   "pygments_lexer": "ipython3",
   "version": "3.8.5"
  }
 },
 "nbformat": 4,
 "nbformat_minor": 4
}
